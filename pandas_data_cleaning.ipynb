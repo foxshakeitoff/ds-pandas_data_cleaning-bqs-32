{
 "cells": [
  {
   "cell_type": "markdown",
   "metadata": {
    "toc": true
   },
   "source": [
    "<h1>Table of Contents<span class=\"tocSkip\"></span></h1>\n",
    "<div class=\"toc\"><ul class=\"toc-item\"><li><span><a href=\"#Objectives\" data-toc-modified-id=\"Objectives-1\"><span class=\"toc-item-num\">1&nbsp;&nbsp;</span>Objectives</a></span></li><li><span><a href=\"#More-Pandas\" data-toc-modified-id=\"More-Pandas-2\"><span class=\"toc-item-num\">2&nbsp;&nbsp;</span>More Pandas</a></span><ul class=\"toc-item\"><li><span><a href=\"#Loading-the-Data\" data-toc-modified-id=\"Loading-the-Data-2.1\"><span class=\"toc-item-num\">2.1&nbsp;&nbsp;</span>Loading the Data</a></span></li></ul></li><li><span><a href=\"#Exploratory-Data-Analysis-(EDA)\" data-toc-modified-id=\"Exploratory-Data-Analysis-(EDA)-3\"><span class=\"toc-item-num\">3&nbsp;&nbsp;</span>Exploratory Data Analysis (EDA)</a></span><ul class=\"toc-item\"><li><span><a href=\"#Inspecting-the-Data\" data-toc-modified-id=\"Inspecting-the-Data-3.1\"><span class=\"toc-item-num\">3.1&nbsp;&nbsp;</span>Inspecting the Data</a></span></li><li><span><a href=\"#Question-1:-What-animal-types-are-in-the-dataset?\" data-toc-modified-id=\"Question-1:-What-animal-types-are-in-the-dataset?-3.2\"><span class=\"toc-item-num\">3.2&nbsp;&nbsp;</span>Question 1: What animal types are in the dataset?</a></span></li><li><span><a href=\"#Question-2:-What-&quot;Other&quot;-animals-are-in-the-dataset?\" data-toc-modified-id=\"Question-2:-What-&quot;Other&quot;-animals-are-in-the-dataset?-3.3\"><span class=\"toc-item-num\">3.3&nbsp;&nbsp;</span>Question 2: What \"Other\" animals are in the dataset?</a></span></li><li><span><a href=\"#Question-3:-How-old-are-the-animals-in-our-dataset?\" data-toc-modified-id=\"Question-3:-How-old-are-the-animals-in-our-dataset?-3.4\"><span class=\"toc-item-num\">3.4&nbsp;&nbsp;</span>Question 3: How old are the animals in our dataset?</a></span><ul class=\"toc-item\"><li><span><a href=\"#Series.map()\" data-toc-modified-id=\"Series.map()-3.4.1\"><span class=\"toc-item-num\">3.4.1&nbsp;&nbsp;</span><code>Series.map()</code></a></span></li><li><span><a href=\"#More-Sophisticated-Mapping\" data-toc-modified-id=\"More-Sophisticated-Mapping-3.4.2\"><span class=\"toc-item-num\">3.4.2&nbsp;&nbsp;</span>More Sophisticated Mapping</a></span></li><li><span><a href=\"#Lambda-Functions\" data-toc-modified-id=\"Lambda-Functions-3.4.3\"><span class=\"toc-item-num\">3.4.3&nbsp;&nbsp;</span>Lambda Functions</a></span></li></ul></li></ul></li><li><span><a href=\"#Handling-Missing-Data\" data-toc-modified-id=\"Handling-Missing-Data-4\"><span class=\"toc-item-num\">4&nbsp;&nbsp;</span>Handling Missing Data</a></span><ul class=\"toc-item\"><li><span><a href=\"#Fill-with-a-Relevant-Value\" data-toc-modified-id=\"Fill-with-a-Relevant-Value-4.1\"><span class=\"toc-item-num\">4.1&nbsp;&nbsp;</span>Fill with a Relevant Value</a></span></li><li><span><a href=\"#Fill-with-a-Reasonable-Value\" data-toc-modified-id=\"Fill-with-a-Reasonable-Value-4.2\"><span class=\"toc-item-num\">4.2&nbsp;&nbsp;</span>Fill with a Reasonable Value</a></span></li><li><span><a href=\"#Specify-That-the-Data-Were-Missing\" data-toc-modified-id=\"Specify-That-the-Data-Were-Missing-4.3\"><span class=\"toc-item-num\">4.3&nbsp;&nbsp;</span>Specify That the Data Were Missing</a></span></li><li><span><a href=\"#Drop-Missing-Data\" data-toc-modified-id=\"Drop-Missing-Data-4.4\"><span class=\"toc-item-num\">4.4&nbsp;&nbsp;</span>Drop Missing Data</a></span></li><li><span><a href=\"#Comparing-Before-and-After\" data-toc-modified-id=\"Comparing-Before-and-After-4.5\"><span class=\"toc-item-num\">4.5&nbsp;&nbsp;</span>Comparing Before and After</a></span></li></ul></li><li><span><a href=\"#Level-Up:-.applymap()\" data-toc-modified-id=\"Level-Up:-.applymap()-5\"><span class=\"toc-item-num\">5&nbsp;&nbsp;</span>Level Up: <code>.applymap()</code></a></span></li><li><span><a href=\"#Level-Up:-Faster-NumPy-Methods\" data-toc-modified-id=\"Level-Up:-Faster-NumPy-Methods-6\"><span class=\"toc-item-num\">6&nbsp;&nbsp;</span>Level Up: Faster NumPy Methods</a></span><ul class=\"toc-item\"><li><span><a href=\"#NumPy's-where()-Method\" data-toc-modified-id=\"NumPy's-where()-Method-6.1\"><span class=\"toc-item-num\">6.1&nbsp;&nbsp;</span>NumPy's <code>where()</code> Method</a></span></li><li><span><a href=\"#NumPy's-select()-Method\" data-toc-modified-id=\"NumPy's-select()-Method-6.2\"><span class=\"toc-item-num\">6.2&nbsp;&nbsp;</span>NumPy's <code>select()</code> Method</a></span></li></ul></li></ul></div>"
   ]
  },
  {
   "cell_type": "markdown",
   "metadata": {},
   "source": [
    "![panda](http://res.freestockphotos.biz/thumbs/3/3173-illustration-of-a-giant-panda-eating-bamboo-th.png)"
   ]
  },
  {
   "cell_type": "code",
   "execution_count": 1,
   "metadata": {},
   "outputs": [],
   "source": [
    "import numpy as np\n",
    "import pandas as pd\n",
    "\n",
    "from matplotlib import pyplot as plt\n",
    "%matplotlib inline"
   ]
  },
  {
   "cell_type": "markdown",
   "metadata": {
    "heading_collapsed": true
   },
   "source": [
    "# Objectives"
   ]
  },
  {
   "cell_type": "markdown",
   "metadata": {
    "hidden": true
   },
   "source": [
    "- Use lambda functions and DataFrame methods to transform data\n",
    "- Handle missing data"
   ]
  },
  {
   "cell_type": "markdown",
   "metadata": {
    "heading_collapsed": true
   },
   "source": [
    "# More Pandas"
   ]
  },
  {
   "cell_type": "markdown",
   "metadata": {
    "hidden": true
   },
   "source": [
    "Suppose you were interested in opening an animal shelter. To inform your planning, it would be useful to analyze data from other shelters to understand their operations. In this lecture, we'll analyze animal outcome data from the Austin Animal Center.  "
   ]
  },
  {
   "cell_type": "markdown",
   "metadata": {
    "heading_collapsed": true,
    "hidden": true
   },
   "source": [
    "## Loading the Data"
   ]
  },
  {
   "cell_type": "markdown",
   "metadata": {
    "hidden": true
   },
   "source": [
    "Let's take a moment to examine the [Austin Animal Center data set](https://data.austintexas.gov/Health-and-Community-Services/Austin-Animal-Center-Outcomes/9t4d-g238/data). \n",
    "\n",
    "We can also ingest the data right off the web, as we do below. The code below will load JSON data for the last 1000 animals to leave the center from this [JSON file](https://data.austintexas.gov/resource/9t4d-g238.json). "
   ]
  },
  {
   "cell_type": "code",
   "execution_count": 2,
   "metadata": {
    "hidden": true
   },
   "outputs": [],
   "source": [
    "json_url = 'https://data.austintexas.gov/resource/9t4d-g238.json'\n",
    "animals = pd.read_json(json_url)"
   ]
  },
  {
   "cell_type": "markdown",
   "metadata": {
    "heading_collapsed": true
   },
   "source": [
    "# Exploratory Data Analysis (EDA)"
   ]
  },
  {
   "cell_type": "markdown",
   "metadata": {
    "hidden": true
   },
   "source": [
    "Exploring a new dataset is essential for understanding what it contains. This will generate ideas for processing the data and questions to try to answer in further analysis."
   ]
  },
  {
   "cell_type": "markdown",
   "metadata": {
    "heading_collapsed": true,
    "hidden": true
   },
   "source": [
    "## Inspecting the Data"
   ]
  },
  {
   "cell_type": "markdown",
   "metadata": {
    "hidden": true
   },
   "source": [
    "Let's take a look at a few rows of data."
   ]
  },
  {
   "cell_type": "code",
   "execution_count": 3,
   "metadata": {
    "hidden": true
   },
   "outputs": [
    {
     "data": {
      "text/html": [
       "<div>\n",
       "<style scoped>\n",
       "    .dataframe tbody tr th:only-of-type {\n",
       "        vertical-align: middle;\n",
       "    }\n",
       "\n",
       "    .dataframe tbody tr th {\n",
       "        vertical-align: top;\n",
       "    }\n",
       "\n",
       "    .dataframe thead th {\n",
       "        text-align: right;\n",
       "    }\n",
       "</style>\n",
       "<table border=\"1\" class=\"dataframe\">\n",
       "  <thead>\n",
       "    <tr style=\"text-align: right;\">\n",
       "      <th></th>\n",
       "      <th>animal_id</th>\n",
       "      <th>datetime</th>\n",
       "      <th>monthyear</th>\n",
       "      <th>date_of_birth</th>\n",
       "      <th>outcome_type</th>\n",
       "      <th>outcome_subtype</th>\n",
       "      <th>animal_type</th>\n",
       "      <th>sex_upon_outcome</th>\n",
       "      <th>age_upon_outcome</th>\n",
       "      <th>breed</th>\n",
       "      <th>color</th>\n",
       "      <th>name</th>\n",
       "    </tr>\n",
       "  </thead>\n",
       "  <tbody>\n",
       "    <tr>\n",
       "      <th>0</th>\n",
       "      <td>A872832</td>\n",
       "      <td>2023-01-16 17:01:00</td>\n",
       "      <td>2023-01-16T17:01:00.000</td>\n",
       "      <td>2022-01-16T00:00:00.000</td>\n",
       "      <td>Euthanasia</td>\n",
       "      <td>Suffering</td>\n",
       "      <td>Other</td>\n",
       "      <td>Unknown</td>\n",
       "      <td>NULL</td>\n",
       "      <td>Raccoon</td>\n",
       "      <td>Brown</td>\n",
       "      <td>NaN</td>\n",
       "    </tr>\n",
       "    <tr>\n",
       "      <th>1</th>\n",
       "      <td>A872077</td>\n",
       "      <td>2023-01-16 10:32:00</td>\n",
       "      <td>2023-01-16T10:32:00.000</td>\n",
       "      <td>2022-12-03T00:00:00.000</td>\n",
       "      <td>Adoption</td>\n",
       "      <td>NaN</td>\n",
       "      <td>Other</td>\n",
       "      <td>Unknown</td>\n",
       "      <td>1 month</td>\n",
       "      <td>Lizard</td>\n",
       "      <td>Tan</td>\n",
       "      <td>NaN</td>\n",
       "    </tr>\n",
       "    <tr>\n",
       "      <th>2</th>\n",
       "      <td>A872076</td>\n",
       "      <td>2023-01-16 10:31:00</td>\n",
       "      <td>2023-01-16T10:31:00.000</td>\n",
       "      <td>2022-01-03T00:00:00.000</td>\n",
       "      <td>Adoption</td>\n",
       "      <td>NaN</td>\n",
       "      <td>Other</td>\n",
       "      <td>Unknown</td>\n",
       "      <td>1 year</td>\n",
       "      <td>Lizard</td>\n",
       "      <td>Tan</td>\n",
       "      <td>NaN</td>\n",
       "    </tr>\n",
       "    <tr>\n",
       "      <th>3</th>\n",
       "      <td>A872719</td>\n",
       "      <td>2023-01-16 10:20:00</td>\n",
       "      <td>2023-01-16T10:20:00.000</td>\n",
       "      <td>2013-01-14T00:00:00.000</td>\n",
       "      <td>Euthanasia</td>\n",
       "      <td>Suffering</td>\n",
       "      <td>Cat</td>\n",
       "      <td>Intact Female</td>\n",
       "      <td>NULL</td>\n",
       "      <td>Domestic Shorthair</td>\n",
       "      <td>Tortie</td>\n",
       "      <td>NaN</td>\n",
       "    </tr>\n",
       "    <tr>\n",
       "      <th>4</th>\n",
       "      <td>A870159</td>\n",
       "      <td>2023-01-15 18:52:00</td>\n",
       "      <td>2023-01-15T18:52:00.000</td>\n",
       "      <td>2021-06-01T00:00:00.000</td>\n",
       "      <td>Adoption</td>\n",
       "      <td>NaN</td>\n",
       "      <td>Dog</td>\n",
       "      <td>Neutered Male</td>\n",
       "      <td>1 year</td>\n",
       "      <td>Labrador Retriever Mix</td>\n",
       "      <td>Black/White</td>\n",
       "      <td>*Tooni</td>\n",
       "    </tr>\n",
       "  </tbody>\n",
       "</table>\n",
       "</div>"
      ],
      "text/plain": [
       "  animal_id            datetime                monthyear  \\\n",
       "0   A872832 2023-01-16 17:01:00  2023-01-16T17:01:00.000   \n",
       "1   A872077 2023-01-16 10:32:00  2023-01-16T10:32:00.000   \n",
       "2   A872076 2023-01-16 10:31:00  2023-01-16T10:31:00.000   \n",
       "3   A872719 2023-01-16 10:20:00  2023-01-16T10:20:00.000   \n",
       "4   A870159 2023-01-15 18:52:00  2023-01-15T18:52:00.000   \n",
       "\n",
       "             date_of_birth outcome_type outcome_subtype animal_type  \\\n",
       "0  2022-01-16T00:00:00.000   Euthanasia       Suffering       Other   \n",
       "1  2022-12-03T00:00:00.000     Adoption             NaN       Other   \n",
       "2  2022-01-03T00:00:00.000     Adoption             NaN       Other   \n",
       "3  2013-01-14T00:00:00.000   Euthanasia       Suffering         Cat   \n",
       "4  2021-06-01T00:00:00.000     Adoption             NaN         Dog   \n",
       "\n",
       "  sex_upon_outcome age_upon_outcome                   breed        color  \\\n",
       "0          Unknown             NULL                 Raccoon        Brown   \n",
       "1          Unknown          1 month                  Lizard          Tan   \n",
       "2          Unknown           1 year                  Lizard          Tan   \n",
       "3    Intact Female             NULL      Domestic Shorthair       Tortie   \n",
       "4    Neutered Male           1 year  Labrador Retriever Mix  Black/White   \n",
       "\n",
       "     name  \n",
       "0     NaN  \n",
       "1     NaN  \n",
       "2     NaN  \n",
       "3     NaN  \n",
       "4  *Tooni  "
      ]
     },
     "execution_count": 3,
     "metadata": {},
     "output_type": "execute_result"
    }
   ],
   "source": [
    "animals.head()"
   ]
  },
  {
   "cell_type": "markdown",
   "metadata": {
    "hidden": true
   },
   "source": [
    "The `info()` and `describe()` provide a useful overview of the data."
   ]
  },
  {
   "cell_type": "code",
   "execution_count": 4,
   "metadata": {
    "hidden": true
   },
   "outputs": [
    {
     "name": "stdout",
     "output_type": "stream",
     "text": [
      "<class 'pandas.core.frame.DataFrame'>\n",
      "RangeIndex: 1000 entries, 0 to 999\n",
      "Data columns (total 12 columns):\n",
      " #   Column            Non-Null Count  Dtype         \n",
      "---  ------            --------------  -----         \n",
      " 0   animal_id         1000 non-null   object        \n",
      " 1   datetime          1000 non-null   datetime64[ns]\n",
      " 2   monthyear         1000 non-null   object        \n",
      " 3   date_of_birth     1000 non-null   object        \n",
      " 4   outcome_type      999 non-null    object        \n",
      " 5   outcome_subtype   419 non-null    object        \n",
      " 6   animal_type       1000 non-null   object        \n",
      " 7   sex_upon_outcome  1000 non-null   object        \n",
      " 8   age_upon_outcome  1000 non-null   object        \n",
      " 9   breed             1000 non-null   object        \n",
      " 10  color             1000 non-null   object        \n",
      " 11  name              796 non-null    object        \n",
      "dtypes: datetime64[ns](1), object(11)\n",
      "memory usage: 93.9+ KB\n"
     ]
    }
   ],
   "source": [
    "animals.info()"
   ]
  },
  {
   "cell_type": "markdown",
   "metadata": {
    "hidden": true
   },
   "source": [
    "> We can see we have some missing data. Specifically in the `outcome_type`, `outcome_subtype`, and `name` columns."
   ]
  },
  {
   "cell_type": "code",
   "execution_count": 5,
   "metadata": {
    "hidden": true
   },
   "outputs": [
    {
     "name": "stderr",
     "output_type": "stream",
     "text": [
      "<ipython-input-5-3885fd60d0c1>:1: FutureWarning: Treating datetime data as categorical rather than numeric in `.describe` is deprecated and will be removed in a future version of pandas. Specify `datetime_is_numeric=True` to silence this warning and adopt the future behavior now.\n",
      "  animals.describe()\n"
     ]
    },
    {
     "data": {
      "text/html": [
       "<div>\n",
       "<style scoped>\n",
       "    .dataframe tbody tr th:only-of-type {\n",
       "        vertical-align: middle;\n",
       "    }\n",
       "\n",
       "    .dataframe tbody tr th {\n",
       "        vertical-align: top;\n",
       "    }\n",
       "\n",
       "    .dataframe thead th {\n",
       "        text-align: right;\n",
       "    }\n",
       "</style>\n",
       "<table border=\"1\" class=\"dataframe\">\n",
       "  <thead>\n",
       "    <tr style=\"text-align: right;\">\n",
       "      <th></th>\n",
       "      <th>animal_id</th>\n",
       "      <th>datetime</th>\n",
       "      <th>monthyear</th>\n",
       "      <th>date_of_birth</th>\n",
       "      <th>outcome_type</th>\n",
       "      <th>outcome_subtype</th>\n",
       "      <th>animal_type</th>\n",
       "      <th>sex_upon_outcome</th>\n",
       "      <th>age_upon_outcome</th>\n",
       "      <th>breed</th>\n",
       "      <th>color</th>\n",
       "      <th>name</th>\n",
       "    </tr>\n",
       "  </thead>\n",
       "  <tbody>\n",
       "    <tr>\n",
       "      <th>count</th>\n",
       "      <td>1000</td>\n",
       "      <td>1000</td>\n",
       "      <td>1000</td>\n",
       "      <td>1000</td>\n",
       "      <td>999</td>\n",
       "      <td>419</td>\n",
       "      <td>1000</td>\n",
       "      <td>1000</td>\n",
       "      <td>1000</td>\n",
       "      <td>1000</td>\n",
       "      <td>1000</td>\n",
       "      <td>796</td>\n",
       "    </tr>\n",
       "    <tr>\n",
       "      <th>unique</th>\n",
       "      <td>983</td>\n",
       "      <td>882</td>\n",
       "      <td>882</td>\n",
       "      <td>492</td>\n",
       "      <td>7</td>\n",
       "      <td>11</td>\n",
       "      <td>4</td>\n",
       "      <td>5</td>\n",
       "      <td>35</td>\n",
       "      <td>176</td>\n",
       "      <td>121</td>\n",
       "      <td>719</td>\n",
       "    </tr>\n",
       "    <tr>\n",
       "      <th>top</th>\n",
       "      <td>A870755</td>\n",
       "      <td>2023-01-11 15:48:00</td>\n",
       "      <td>2022-12-21T13:21:00.000</td>\n",
       "      <td>2020-11-10T00:00:00.000</td>\n",
       "      <td>Adoption</td>\n",
       "      <td>Foster</td>\n",
       "      <td>Dog</td>\n",
       "      <td>Spayed Female</td>\n",
       "      <td>2 years</td>\n",
       "      <td>Domestic Shorthair</td>\n",
       "      <td>Black/White</td>\n",
       "      <td>Luna</td>\n",
       "    </tr>\n",
       "    <tr>\n",
       "      <th>freq</th>\n",
       "      <td>2</td>\n",
       "      <td>5</td>\n",
       "      <td>5</td>\n",
       "      <td>31</td>\n",
       "      <td>675</td>\n",
       "      <td>178</td>\n",
       "      <td>510</td>\n",
       "      <td>375</td>\n",
       "      <td>218</td>\n",
       "      <td>315</td>\n",
       "      <td>102</td>\n",
       "      <td>4</td>\n",
       "    </tr>\n",
       "    <tr>\n",
       "      <th>first</th>\n",
       "      <td>NaN</td>\n",
       "      <td>2022-12-13 14:39:00</td>\n",
       "      <td>NaN</td>\n",
       "      <td>NaN</td>\n",
       "      <td>NaN</td>\n",
       "      <td>NaN</td>\n",
       "      <td>NaN</td>\n",
       "      <td>NaN</td>\n",
       "      <td>NaN</td>\n",
       "      <td>NaN</td>\n",
       "      <td>NaN</td>\n",
       "      <td>NaN</td>\n",
       "    </tr>\n",
       "    <tr>\n",
       "      <th>last</th>\n",
       "      <td>NaN</td>\n",
       "      <td>2023-01-16 17:01:00</td>\n",
       "      <td>NaN</td>\n",
       "      <td>NaN</td>\n",
       "      <td>NaN</td>\n",
       "      <td>NaN</td>\n",
       "      <td>NaN</td>\n",
       "      <td>NaN</td>\n",
       "      <td>NaN</td>\n",
       "      <td>NaN</td>\n",
       "      <td>NaN</td>\n",
       "      <td>NaN</td>\n",
       "    </tr>\n",
       "  </tbody>\n",
       "</table>\n",
       "</div>"
      ],
      "text/plain": [
       "       animal_id             datetime                monthyear  \\\n",
       "count       1000                 1000                     1000   \n",
       "unique       983                  882                      882   \n",
       "top      A870755  2023-01-11 15:48:00  2022-12-21T13:21:00.000   \n",
       "freq           2                    5                        5   \n",
       "first        NaN  2022-12-13 14:39:00                      NaN   \n",
       "last         NaN  2023-01-16 17:01:00                      NaN   \n",
       "\n",
       "                  date_of_birth outcome_type outcome_subtype animal_type  \\\n",
       "count                      1000          999             419        1000   \n",
       "unique                      492            7              11           4   \n",
       "top     2020-11-10T00:00:00.000     Adoption          Foster         Dog   \n",
       "freq                         31          675             178         510   \n",
       "first                       NaN          NaN             NaN         NaN   \n",
       "last                        NaN          NaN             NaN         NaN   \n",
       "\n",
       "       sex_upon_outcome age_upon_outcome               breed        color  \\\n",
       "count              1000             1000                1000         1000   \n",
       "unique                5               35                 176          121   \n",
       "top       Spayed Female          2 years  Domestic Shorthair  Black/White   \n",
       "freq                375              218                 315          102   \n",
       "first               NaN              NaN                 NaN          NaN   \n",
       "last                NaN              NaN                 NaN          NaN   \n",
       "\n",
       "        name  \n",
       "count    796  \n",
       "unique   719  \n",
       "top     Luna  \n",
       "freq       4  \n",
       "first    NaN  \n",
       "last     NaN  "
      ]
     },
     "execution_count": 5,
     "metadata": {},
     "output_type": "execute_result"
    }
   ],
   "source": [
    "animals.describe()"
   ]
  },
  {
   "cell_type": "code",
   "execution_count": 6,
   "metadata": {
    "hidden": true
   },
   "outputs": [
    {
     "data": {
      "text/plain": [
       "Black/White                102\n",
       "Black                       92\n",
       "Brown Tabby                 58\n",
       "White/Black                 38\n",
       "White                       35\n",
       "                          ... \n",
       "Black Tabby                  1\n",
       "Tortie Point/Lynx Point      1\n",
       "Black Smoke                  1\n",
       "Torbie/Gray                  1\n",
       "White/Blue Tick              1\n",
       "Name: color, Length: 121, dtype: int64"
      ]
     },
     "execution_count": 6,
     "metadata": {},
     "output_type": "execute_result"
    }
   ],
   "source": [
    "# Use value counts to check a categorical feature's distribution\n",
    "\n",
    "animals['color'].value_counts()"
   ]
  },
  {
   "cell_type": "markdown",
   "metadata": {
    "hidden": true
   },
   "source": [
    "Now that we have a sense of the data available to us, we can focus in on some more specific questions to dig into. These questions may or may not be directly relevant to your goal (e.g. helping plan a new shelter), but will always help you gain a better understanding of your data.\n",
    "\n",
    "In your EDA notebooks, **markdown** will be especially helpful in tracking these questions and your methods of answering the questions.  "
   ]
  },
  {
   "cell_type": "markdown",
   "metadata": {
    "heading_collapsed": true,
    "hidden": true
   },
   "source": [
    "## Question 1: What animal types are in the dataset?"
   ]
  },
  {
   "cell_type": "markdown",
   "metadata": {
    "hidden": true
   },
   "source": [
    "We can then begin thinking about what parts of the DataFrame we need to answer the question."
   ]
  },
  {
   "cell_type": "markdown",
   "metadata": {
    "hidden": true
   },
   "source": [
    "* What features do we need?\n",
    " - \"animal_type\"\n",
    "* What type of logic and calculation do we perform?\n",
    " - Let's use `.value_counts()` to count the different animal types\n",
    "* What type of visualization would help us answer the question?\n",
    " - A bar chart would be good for this purpose"
   ]
  },
  {
   "cell_type": "code",
   "execution_count": 7,
   "metadata": {
    "hidden": true
   },
   "outputs": [
    {
     "data": {
      "text/plain": [
       "Dog      510\n",
       "Cat      411\n",
       "Other     45\n",
       "Bird      34\n",
       "Name: animal_type, dtype: int64"
      ]
     },
     "execution_count": 7,
     "metadata": {},
     "output_type": "execute_result"
    }
   ],
   "source": [
    "animals['animal_type'].value_counts()"
   ]
  },
  {
   "cell_type": "code",
   "execution_count": 8,
   "metadata": {
    "hidden": true
   },
   "outputs": [
    {
     "data": {
      "image/png": "[encoded data removed]",
      "text/plain": [
       "<Figure size 432x288 with 1 Axes>"
      ]
     },
     "metadata": {
      "needs_background": "light"
     },
     "output_type": "display_data"
    }
   ],
   "source": [
    "fig, ax = plt.subplots()\n",
    "\n",
    "animal_type_values = animals['animal_type'].value_counts()\n",
    "\n",
    "ax.barh(\n",
    "    y=animal_type_values.index,\n",
    "    width=animal_type_values.values\n",
    ")\n",
    "ax.set_xlabel('count');"
   ]
  },
  {
   "cell_type": "code",
   "execution_count": 9,
   "metadata": {
    "hidden": true
   },
   "outputs": [
    {
     "data": {
      "text/plain": [
       "<AxesSubplot:>"
      ]
     },
     "execution_count": 9,
     "metadata": {},
     "output_type": "execute_result"
    },
    {
     "data": {
      "image/png": "[encoded data removed]",
      "text/plain": [
       "<Figure size 432x288 with 1 Axes>"
      ]
     },
     "metadata": {
      "needs_background": "light"
     },
     "output_type": "display_data"
    }
   ],
   "source": [
    "animals['animal_type'].hist()"
   ]
  },
  {
   "cell_type": "markdown",
   "metadata": {
    "hidden": true
   },
   "source": [
    "Questions lead to other questions. For the above example, the visualization raises the question..."
   ]
  },
  {
   "cell_type": "markdown",
   "metadata": {
    "heading_collapsed": true,
    "hidden": true
   },
   "source": [
    "## Question 2: What \"Other\" animals are in the dataset?"
   ]
  },
  {
   "cell_type": "markdown",
   "metadata": {
    "hidden": true
   },
   "source": [
    "To find out, we need to know whether the type of animal for \"Other\" is in our dataset - and if so, where to find it.   "
   ]
  },
  {
   "cell_type": "markdown",
   "metadata": {
    "hidden": true
   },
   "source": [
    "**Discussion**: Where might we look to find animal types within the Other category?\n",
    "\n",
    "<details>\n",
    "    <summary>\n",
    "        Answer\n",
    "    </summary>\n",
    "        The breed column.\n",
    "</details>"
   ]
  },
  {
   "cell_type": "code",
   "execution_count": 10,
   "metadata": {
    "hidden": true
   },
   "outputs": [],
   "source": [
    "# Your exploration here"
   ]
  },
  {
   "cell_type": "markdown",
   "metadata": {
    "hidden": true
   },
   "source": [
    "Let's use that column to answer our question."
   ]
  },
  {
   "cell_type": "code",
   "execution_count": 11,
   "metadata": {
    "hidden": true
   },
   "outputs": [
    {
     "data": {
      "text/plain": [
       "Guinea Pig                     12\n",
       "Raccoon                         8\n",
       "Bat                             5\n",
       "Rabbit Sh                       5\n",
       "Lizard                          3\n",
       "Opossum                         3\n",
       "Angora-English                  2\n",
       "Coyote                          1\n",
       "Skunk                           1\n",
       "Snake/Python                    1\n",
       "Fox                             1\n",
       "Squirrel                        1\n",
       "Snake                           1\n",
       "New Zealand Wht/Lop-Holland     1\n",
       "Name: breed, dtype: int64"
      ]
     },
     "execution_count": 11,
     "metadata": {},
     "output_type": "execute_result"
    }
   ],
   "source": [
    "mask_other_animals = animals['animal_type'] == 'Other'\n",
    "animals[mask_other_animals]['breed'].value_counts()"
   ]
  },
  {
   "cell_type": "markdown",
   "metadata": {
    "heading_collapsed": true,
    "hidden": true
   },
   "source": [
    "## Question 3: How old are the animals in our dataset?"
   ]
  },
  {
   "cell_type": "markdown",
   "metadata": {
    "hidden": true
   },
   "source": [
    "Let's try to answer this with the `age_upon_outcome` variable to learn some new `pandas` tools."
   ]
  },
  {
   "cell_type": "code",
   "execution_count": 12,
   "metadata": {
    "hidden": true
   },
   "outputs": [
    {
     "data": {
      "text/plain": [
       "2 years      218\n",
       "2 months     163\n",
       "1 year       137\n",
       "3 years       53\n",
       "3 months      50\n",
       "1 month       45\n",
       "4 months      44\n",
       "6 months      40\n",
       "5 months      28\n",
       "8 months      26\n",
       "4 years       25\n",
       "7 months      19\n",
       "6 years       15\n",
       "7 years       15\n",
       "9 months      14\n",
       "5 years       14\n",
       "11 months     14\n",
       "10 months     10\n",
       "9 years        9\n",
       "NULL           9\n",
       "1 week         8\n",
       "8 years        7\n",
       "10 years       7\n",
       "15 years       5\n",
       "12 years       4\n",
       "2 days         4\n",
       "11 years       3\n",
       "5 weeks        3\n",
       "3 weeks        3\n",
       "14 years       2\n",
       "13 years       2\n",
       "6 days         1\n",
       "0 years        1\n",
       "16 years       1\n",
       "4 weeks        1\n",
       "Name: age_upon_outcome, dtype: int64"
      ]
     },
     "execution_count": 12,
     "metadata": {},
     "output_type": "execute_result"
    }
   ],
   "source": [
    "animals['age_upon_outcome'].value_counts()"
   ]
  },
  {
   "cell_type": "markdown",
   "metadata": {
    "heading_collapsed": true,
    "hidden": true
   },
   "source": [
    "### `Series.map()`"
   ]
  },
  {
   "cell_type": "markdown",
   "metadata": {
    "hidden": true
   },
   "source": [
    "The `.map()` method applies a transformation to every entry in the Series. This transformation  \"maps\" each value from the Series to a new value. A transformation can be defined by a function, Series, or dictionary - usually we'll use functions."
   ]
  },
  {
   "cell_type": "markdown",
   "metadata": {
    "hidden": true
   },
   "source": [
    "The `.apply()` method is similar to the `.map()` method for Series, but can only use functions. It has more powerful uses when working with DataFrames."
   ]
  },
  {
   "cell_type": "code",
   "execution_count": 13,
   "metadata": {
    "hidden": true
   },
   "outputs": [],
   "source": [
    "def one_year(age):\n",
    "    if age == '1 year':\n",
    "        return '1 years'\n",
    "    else:\n",
    "        return age"
   ]
  },
  {
   "cell_type": "code",
   "execution_count": 14,
   "metadata": {
    "hidden": true,
    "scrolled": true
   },
   "outputs": [
    {
     "data": {
      "text/plain": [
       "2 years      218\n",
       "2 months     163\n",
       "1 years      137\n",
       "3 years       53\n",
       "3 months      50\n",
       "1 month       45\n",
       "4 months      44\n",
       "6 months      40\n",
       "5 months      28\n",
       "8 months      26\n",
       "4 years       25\n",
       "7 months      19\n",
       "7 years       15\n",
       "6 years       15\n",
       "5 years       14\n",
       "11 months     14\n",
       "9 months      14\n",
       "10 months     10\n",
       "9 years        9\n",
       "NULL           9\n",
       "1 week         8\n",
       "10 years       7\n",
       "8 years        7\n",
       "15 years       5\n",
       "12 years       4\n",
       "2 days         4\n",
       "5 weeks        3\n",
       "11 years       3\n",
       "3 weeks        3\n",
       "14 years       2\n",
       "13 years       2\n",
       "6 days         1\n",
       "16 years       1\n",
       "0 years        1\n",
       "4 weeks        1\n",
       "Name: new_age1, dtype: int64"
      ]
     },
     "execution_count": 14,
     "metadata": {},
     "output_type": "execute_result"
    }
   ],
   "source": [
    "animals['new_age1'] = animals['age_upon_outcome'].map(one_year)\n",
    "animals['new_age1'].value_counts()"
   ]
  },
  {
   "cell_type": "markdown",
   "metadata": {
    "heading_collapsed": true,
    "hidden": true
   },
   "source": [
    "### More Sophisticated Mapping"
   ]
  },
  {
   "cell_type": "markdown",
   "metadata": {
    "hidden": true
   },
   "source": [
    "Let's use `.map()` to turn sex_upon_outcome into a category with three values (called **ternary**): male, female, or unknown. "
   ]
  },
  {
   "cell_type": "markdown",
   "metadata": {
    "hidden": true
   },
   "source": [
    "First, explore the unique values:"
   ]
  },
  {
   "cell_type": "code",
   "execution_count": 15,
   "metadata": {
    "hidden": true
   },
   "outputs": [
    {
     "data": {
      "text/plain": [
       "array(['Unknown', 'Intact Female', 'Neutered Male', 'Spayed Female',\n",
       "       'Intact Male'], dtype=object)"
      ]
     },
     "execution_count": 15,
     "metadata": {},
     "output_type": "execute_result"
    }
   ],
   "source": [
    "animals['sex_upon_outcome'].unique()"
   ]
  },
  {
   "cell_type": "code",
   "execution_count": 16,
   "metadata": {
    "hidden": true
   },
   "outputs": [],
   "source": [
    "def sex_mapper(status):\n",
    "    if status in ['Neutered Male', 'Intact Male']:\n",
    "        return 'Male'\n",
    "    elif status in ['Spayed Female', 'Intact Female']:\n",
    "        return 'Female'\n",
    "    else:\n",
    "        return 'Unknown'"
   ]
  },
  {
   "cell_type": "code",
   "execution_count": 17,
   "metadata": {
    "hidden": true
   },
   "outputs": [
    {
     "data": {
      "text/plain": [
       "0      Unknown\n",
       "1      Unknown\n",
       "2      Unknown\n",
       "3       Female\n",
       "4         Male\n",
       "        ...   \n",
       "995     Female\n",
       "996     Female\n",
       "997       Male\n",
       "998     Female\n",
       "999       Male\n",
       "Name: new_sex1, Length: 1000, dtype: object"
      ]
     },
     "execution_count": 17,
     "metadata": {},
     "output_type": "execute_result"
    }
   ],
   "source": [
    "animals['new_sex1'] = animals['sex_upon_outcome'].map(sex_mapper)\n",
    "animals['new_sex1']"
   ]
  },
  {
   "cell_type": "markdown",
   "metadata": {
    "heading_collapsed": true,
    "hidden": true
   },
   "source": [
    "### Lambda Functions"
   ]
  },
  {
   "cell_type": "markdown",
   "metadata": {
    "hidden": true
   },
   "source": [
    "Simple functions can be defined just when you need them, when you would call the function. These are called **lambda functions**. These functions are **anonymous** and disappear immediately after use."
   ]
  },
  {
   "cell_type": "markdown",
   "metadata": {
    "hidden": true
   },
   "source": [
    "Let's use a lambda function to get rid of 'Other' in the \"animal_type' column."
   ]
  },
  {
   "cell_type": "code",
   "execution_count": 18,
   "metadata": {
    "hidden": true
   },
   "outputs": [
    {
     "data": {
      "text/html": [
       "<div>\n",
       "<style scoped>\n",
       "    .dataframe tbody tr th:only-of-type {\n",
       "        vertical-align: middle;\n",
       "    }\n",
       "\n",
       "    .dataframe tbody tr th {\n",
       "        vertical-align: top;\n",
       "    }\n",
       "\n",
       "    .dataframe thead th {\n",
       "        text-align: right;\n",
       "    }\n",
       "</style>\n",
       "<table border=\"1\" class=\"dataframe\">\n",
       "  <thead>\n",
       "    <tr style=\"text-align: right;\">\n",
       "      <th></th>\n",
       "      <th>animal_id</th>\n",
       "      <th>datetime</th>\n",
       "      <th>monthyear</th>\n",
       "      <th>date_of_birth</th>\n",
       "      <th>outcome_type</th>\n",
       "      <th>outcome_subtype</th>\n",
       "      <th>animal_type</th>\n",
       "      <th>sex_upon_outcome</th>\n",
       "      <th>age_upon_outcome</th>\n",
       "      <th>breed</th>\n",
       "      <th>color</th>\n",
       "      <th>name</th>\n",
       "      <th>new_age1</th>\n",
       "      <th>new_sex1</th>\n",
       "    </tr>\n",
       "  </thead>\n",
       "  <tbody>\n",
       "    <tr>\n",
       "      <th>0</th>\n",
       "      <td>A872832</td>\n",
       "      <td>2023-01-16 17:01:00</td>\n",
       "      <td>2023-01-16T17:01:00.000</td>\n",
       "      <td>2022-01-16T00:00:00.000</td>\n",
       "      <td>Euthanasia</td>\n",
       "      <td>Suffering</td>\n",
       "      <td>Other</td>\n",
       "      <td>Unknown</td>\n",
       "      <td>NULL</td>\n",
       "      <td>Raccoon</td>\n",
       "      <td>Brown</td>\n",
       "      <td>NaN</td>\n",
       "      <td>NULL</td>\n",
       "      <td>Unknown</td>\n",
       "    </tr>\n",
       "    <tr>\n",
       "      <th>1</th>\n",
       "      <td>A872077</td>\n",
       "      <td>2023-01-16 10:32:00</td>\n",
       "      <td>2023-01-16T10:32:00.000</td>\n",
       "      <td>2022-12-03T00:00:00.000</td>\n",
       "      <td>Adoption</td>\n",
       "      <td>NaN</td>\n",
       "      <td>Other</td>\n",
       "      <td>Unknown</td>\n",
       "      <td>1 month</td>\n",
       "      <td>Lizard</td>\n",
       "      <td>Tan</td>\n",
       "      <td>NaN</td>\n",
       "      <td>1 month</td>\n",
       "      <td>Unknown</td>\n",
       "    </tr>\n",
       "    <tr>\n",
       "      <th>2</th>\n",
       "      <td>A872076</td>\n",
       "      <td>2023-01-16 10:31:00</td>\n",
       "      <td>2023-01-16T10:31:00.000</td>\n",
       "      <td>2022-01-03T00:00:00.000</td>\n",
       "      <td>Adoption</td>\n",
       "      <td>NaN</td>\n",
       "      <td>Other</td>\n",
       "      <td>Unknown</td>\n",
       "      <td>1 year</td>\n",
       "      <td>Lizard</td>\n",
       "      <td>Tan</td>\n",
       "      <td>NaN</td>\n",
       "      <td>1 years</td>\n",
       "      <td>Unknown</td>\n",
       "    </tr>\n",
       "    <tr>\n",
       "      <th>29</th>\n",
       "      <td>A872776</td>\n",
       "      <td>2023-01-15 12:20:00</td>\n",
       "      <td>2023-01-15T12:20:00.000</td>\n",
       "      <td>2021-01-15T00:00:00.000</td>\n",
       "      <td>Euthanasia</td>\n",
       "      <td>Rabies Risk</td>\n",
       "      <td>Other</td>\n",
       "      <td>Unknown</td>\n",
       "      <td>2 years</td>\n",
       "      <td>Raccoon</td>\n",
       "      <td>Gray/White</td>\n",
       "      <td>NaN</td>\n",
       "      <td>2 years</td>\n",
       "      <td>Unknown</td>\n",
       "    </tr>\n",
       "    <tr>\n",
       "      <th>36</th>\n",
       "      <td>A872507</td>\n",
       "      <td>2023-01-14 19:41:00</td>\n",
       "      <td>2023-01-14T19:41:00.000</td>\n",
       "      <td>2022-01-10T00:00:00.000</td>\n",
       "      <td>Euthanasia</td>\n",
       "      <td>Medical</td>\n",
       "      <td>Other</td>\n",
       "      <td>Unknown</td>\n",
       "      <td>1 year</td>\n",
       "      <td>Squirrel</td>\n",
       "      <td>Gray</td>\n",
       "      <td>NaN</td>\n",
       "      <td>1 years</td>\n",
       "      <td>Unknown</td>\n",
       "    </tr>\n",
       "    <tr>\n",
       "      <th>37</th>\n",
       "      <td>A872459</td>\n",
       "      <td>2023-01-14 19:40:00</td>\n",
       "      <td>2023-01-14T19:40:00.000</td>\n",
       "      <td>2021-01-10T00:00:00.000</td>\n",
       "      <td>Euthanasia</td>\n",
       "      <td>Medical</td>\n",
       "      <td>Other</td>\n",
       "      <td>Unknown</td>\n",
       "      <td>2 years</td>\n",
       "      <td>Opossum</td>\n",
       "      <td>Gray</td>\n",
       "      <td>NaN</td>\n",
       "      <td>2 years</td>\n",
       "      <td>Unknown</td>\n",
       "    </tr>\n",
       "    <tr>\n",
       "      <th>69</th>\n",
       "      <td>A872710</td>\n",
       "      <td>2023-01-13 18:49:00</td>\n",
       "      <td>2023-01-13T18:49:00.000</td>\n",
       "      <td>2021-01-13T00:00:00.000</td>\n",
       "      <td>Euthanasia</td>\n",
       "      <td>Rabies Risk</td>\n",
       "      <td>Other</td>\n",
       "      <td>Unknown</td>\n",
       "      <td>2 years</td>\n",
       "      <td>Fox</td>\n",
       "      <td>Brown/Gray</td>\n",
       "      <td>NaN</td>\n",
       "      <td>2 years</td>\n",
       "      <td>Unknown</td>\n",
       "    </tr>\n",
       "    <tr>\n",
       "      <th>90</th>\n",
       "      <td>A872428</td>\n",
       "      <td>2023-01-13 15:20:00</td>\n",
       "      <td>2023-01-13T15:20:00.000</td>\n",
       "      <td>2019-01-09T00:00:00.000</td>\n",
       "      <td>Adoption</td>\n",
       "      <td>NaN</td>\n",
       "      <td>Other</td>\n",
       "      <td>Intact Female</td>\n",
       "      <td>4 years</td>\n",
       "      <td>Rabbit Sh</td>\n",
       "      <td>Black</td>\n",
       "      <td>NaN</td>\n",
       "      <td>4 years</td>\n",
       "      <td>Female</td>\n",
       "    </tr>\n",
       "    <tr>\n",
       "      <th>320</th>\n",
       "      <td>A872090</td>\n",
       "      <td>2023-01-06 11:32:00</td>\n",
       "      <td>2023-01-06T11:32:00.000</td>\n",
       "      <td>2020-01-06T00:00:00.000</td>\n",
       "      <td>Return to Owner</td>\n",
       "      <td>NaN</td>\n",
       "      <td>Other</td>\n",
       "      <td>Intact Female</td>\n",
       "      <td>3 years</td>\n",
       "      <td>Snake/Python</td>\n",
       "      <td>Brown/Black</td>\n",
       "      <td>Baby</td>\n",
       "      <td>3 years</td>\n",
       "      <td>Female</td>\n",
       "    </tr>\n",
       "    <tr>\n",
       "      <th>350</th>\n",
       "      <td>A872162</td>\n",
       "      <td>2023-01-05 11:26:00</td>\n",
       "      <td>2023-01-05T11:26:00.000</td>\n",
       "      <td>2021-01-05T00:00:00.000</td>\n",
       "      <td>Euthanasia</td>\n",
       "      <td>Rabies Risk</td>\n",
       "      <td>Other</td>\n",
       "      <td>Unknown</td>\n",
       "      <td>NULL</td>\n",
       "      <td>Raccoon</td>\n",
       "      <td>Gray/Black</td>\n",
       "      <td>NaN</td>\n",
       "      <td>NULL</td>\n",
       "      <td>Unknown</td>\n",
       "    </tr>\n",
       "    <tr>\n",
       "      <th>359</th>\n",
       "      <td>A872091</td>\n",
       "      <td>2023-01-05 08:44:00</td>\n",
       "      <td>2023-01-05T08:44:00.000</td>\n",
       "      <td>2021-01-04T00:00:00.000</td>\n",
       "      <td>Euthanasia</td>\n",
       "      <td>Rabies Risk</td>\n",
       "      <td>Other</td>\n",
       "      <td>Unknown</td>\n",
       "      <td>2 years</td>\n",
       "      <td>Raccoon</td>\n",
       "      <td>Black/White</td>\n",
       "      <td>NaN</td>\n",
       "      <td>2 years</td>\n",
       "      <td>Unknown</td>\n",
       "    </tr>\n",
       "    <tr>\n",
       "      <th>361</th>\n",
       "      <td>A872132</td>\n",
       "      <td>2023-01-05 00:00:00</td>\n",
       "      <td>2023-01-05T00:00:00.000</td>\n",
       "      <td>2022-11-04T00:00:00.000</td>\n",
       "      <td>Transfer</td>\n",
       "      <td>Partner</td>\n",
       "      <td>Other</td>\n",
       "      <td>Unknown</td>\n",
       "      <td>2 months</td>\n",
       "      <td>Rabbit Sh</td>\n",
       "      <td>Brown</td>\n",
       "      <td>NaN</td>\n",
       "      <td>2 months</td>\n",
       "      <td>Unknown</td>\n",
       "    </tr>\n",
       "    <tr>\n",
       "      <th>393</th>\n",
       "      <td>A871649</td>\n",
       "      <td>2023-01-04 09:00:00</td>\n",
       "      <td>2023-01-04T09:00:00.000</td>\n",
       "      <td>2021-12-27T00:00:00.000</td>\n",
       "      <td>Transfer</td>\n",
       "      <td>Partner</td>\n",
       "      <td>Other</td>\n",
       "      <td>Unknown</td>\n",
       "      <td>1 year</td>\n",
       "      <td>Guinea Pig</td>\n",
       "      <td>Calico</td>\n",
       "      <td>NaN</td>\n",
       "      <td>1 years</td>\n",
       "      <td>Unknown</td>\n",
       "    </tr>\n",
       "    <tr>\n",
       "      <th>394</th>\n",
       "      <td>A871650</td>\n",
       "      <td>2023-01-04 09:00:00</td>\n",
       "      <td>2023-01-04T09:00:00.000</td>\n",
       "      <td>2021-12-27T00:00:00.000</td>\n",
       "      <td>Transfer</td>\n",
       "      <td>Partner</td>\n",
       "      <td>Other</td>\n",
       "      <td>Unknown</td>\n",
       "      <td>1 year</td>\n",
       "      <td>Guinea Pig</td>\n",
       "      <td>Calico</td>\n",
       "      <td>NaN</td>\n",
       "      <td>1 years</td>\n",
       "      <td>Unknown</td>\n",
       "    </tr>\n",
       "    <tr>\n",
       "      <th>395</th>\n",
       "      <td>A871651</td>\n",
       "      <td>2023-01-04 09:00:00</td>\n",
       "      <td>2023-01-04T09:00:00.000</td>\n",
       "      <td>2021-12-27T00:00:00.000</td>\n",
       "      <td>Transfer</td>\n",
       "      <td>Partner</td>\n",
       "      <td>Other</td>\n",
       "      <td>Unknown</td>\n",
       "      <td>1 year</td>\n",
       "      <td>Guinea Pig</td>\n",
       "      <td>White/Black</td>\n",
       "      <td>NaN</td>\n",
       "      <td>1 years</td>\n",
       "      <td>Unknown</td>\n",
       "    </tr>\n",
       "    <tr>\n",
       "      <th>419</th>\n",
       "      <td>A871803</td>\n",
       "      <td>2023-01-03 16:00:00</td>\n",
       "      <td>2023-01-03T16:00:00.000</td>\n",
       "      <td>2022-08-30T00:00:00.000</td>\n",
       "      <td>Adoption</td>\n",
       "      <td>NaN</td>\n",
       "      <td>Other</td>\n",
       "      <td>Intact Male</td>\n",
       "      <td>4 months</td>\n",
       "      <td>Guinea Pig</td>\n",
       "      <td>White/Brown</td>\n",
       "      <td>*Lenny</td>\n",
       "      <td>4 months</td>\n",
       "      <td>Male</td>\n",
       "    </tr>\n",
       "    <tr>\n",
       "      <th>420</th>\n",
       "      <td>A871804</td>\n",
       "      <td>2023-01-03 15:59:00</td>\n",
       "      <td>2023-01-03T15:59:00.000</td>\n",
       "      <td>2022-08-30T00:00:00.000</td>\n",
       "      <td>Adoption</td>\n",
       "      <td>NaN</td>\n",
       "      <td>Other</td>\n",
       "      <td>Intact Male</td>\n",
       "      <td>4 months</td>\n",
       "      <td>Guinea Pig</td>\n",
       "      <td>White/Gray</td>\n",
       "      <td>*Carl</td>\n",
       "      <td>4 months</td>\n",
       "      <td>Male</td>\n",
       "    </tr>\n",
       "    <tr>\n",
       "      <th>431</th>\n",
       "      <td>A871781</td>\n",
       "      <td>2023-01-03 11:21:00</td>\n",
       "      <td>2023-01-03T11:21:00.000</td>\n",
       "      <td>2021-12-29T00:00:00.000</td>\n",
       "      <td>Euthanasia</td>\n",
       "      <td>Rabies Risk</td>\n",
       "      <td>Other</td>\n",
       "      <td>Unknown</td>\n",
       "      <td>1 year</td>\n",
       "      <td>Bat</td>\n",
       "      <td>Brown</td>\n",
       "      <td>NaN</td>\n",
       "      <td>1 years</td>\n",
       "      <td>Unknown</td>\n",
       "    </tr>\n",
       "    <tr>\n",
       "      <th>432</th>\n",
       "      <td>A871787</td>\n",
       "      <td>2023-01-03 11:21:00</td>\n",
       "      <td>2023-01-03T11:21:00.000</td>\n",
       "      <td>2020-12-30T00:00:00.000</td>\n",
       "      <td>Euthanasia</td>\n",
       "      <td>Rabies Risk</td>\n",
       "      <td>Other</td>\n",
       "      <td>Unknown</td>\n",
       "      <td>2 years</td>\n",
       "      <td>Bat</td>\n",
       "      <td>Brown</td>\n",
       "      <td>A871787</td>\n",
       "      <td>2 years</td>\n",
       "      <td>Unknown</td>\n",
       "    </tr>\n",
       "    <tr>\n",
       "      <th>435</th>\n",
       "      <td>A871774</td>\n",
       "      <td>2023-01-02 19:37:00</td>\n",
       "      <td>2023-01-02T19:37:00.000</td>\n",
       "      <td>2021-12-29T00:00:00.000</td>\n",
       "      <td>Euthanasia</td>\n",
       "      <td>Rabies Risk</td>\n",
       "      <td>Other</td>\n",
       "      <td>Unknown</td>\n",
       "      <td>1 year</td>\n",
       "      <td>Bat</td>\n",
       "      <td>Brown/Brown</td>\n",
       "      <td>NaN</td>\n",
       "      <td>1 years</td>\n",
       "      <td>Unknown</td>\n",
       "    </tr>\n",
       "    <tr>\n",
       "      <th>520</th>\n",
       "      <td>A871735</td>\n",
       "      <td>2022-12-29 12:08:00</td>\n",
       "      <td>2022-12-29T12:08:00.000</td>\n",
       "      <td>2020-12-29T00:00:00.000</td>\n",
       "      <td>Euthanasia</td>\n",
       "      <td>Rabies Risk</td>\n",
       "      <td>Other</td>\n",
       "      <td>Unknown</td>\n",
       "      <td>2 years</td>\n",
       "      <td>Raccoon</td>\n",
       "      <td>Brown/Black</td>\n",
       "      <td>A871735</td>\n",
       "      <td>2 years</td>\n",
       "      <td>Unknown</td>\n",
       "    </tr>\n",
       "    <tr>\n",
       "      <th>521</th>\n",
       "      <td>A871724</td>\n",
       "      <td>2022-12-29 12:06:00</td>\n",
       "      <td>2022-12-29T12:06:00.000</td>\n",
       "      <td>2020-12-29T00:00:00.000</td>\n",
       "      <td>Euthanasia</td>\n",
       "      <td>Rabies Risk</td>\n",
       "      <td>Other</td>\n",
       "      <td>Unknown</td>\n",
       "      <td>2 years</td>\n",
       "      <td>Raccoon</td>\n",
       "      <td>Gray/Black</td>\n",
       "      <td>NaN</td>\n",
       "      <td>2 years</td>\n",
       "      <td>Unknown</td>\n",
       "    </tr>\n",
       "    <tr>\n",
       "      <th>523</th>\n",
       "      <td>A871733</td>\n",
       "      <td>2022-12-29 12:02:00</td>\n",
       "      <td>2022-12-29T12:02:00.000</td>\n",
       "      <td>2020-12-29T00:00:00.000</td>\n",
       "      <td>Euthanasia</td>\n",
       "      <td>Rabies Risk</td>\n",
       "      <td>Other</td>\n",
       "      <td>Unknown</td>\n",
       "      <td>2 years</td>\n",
       "      <td>Skunk</td>\n",
       "      <td>Black/White</td>\n",
       "      <td>NaN</td>\n",
       "      <td>2 years</td>\n",
       "      <td>Unknown</td>\n",
       "    </tr>\n",
       "    <tr>\n",
       "      <th>527</th>\n",
       "      <td>A871716</td>\n",
       "      <td>2022-12-29 09:23:00</td>\n",
       "      <td>2022-12-29T09:23:00.000</td>\n",
       "      <td>2020-12-28T00:00:00.000</td>\n",
       "      <td>Euthanasia</td>\n",
       "      <td>Rabies Risk</td>\n",
       "      <td>Other</td>\n",
       "      <td>Unknown</td>\n",
       "      <td>2 years</td>\n",
       "      <td>Bat</td>\n",
       "      <td>Brown</td>\n",
       "      <td>NaN</td>\n",
       "      <td>2 years</td>\n",
       "      <td>Unknown</td>\n",
       "    </tr>\n",
       "    <tr>\n",
       "      <th>528</th>\n",
       "      <td>A871714</td>\n",
       "      <td>2022-12-29 09:23:00</td>\n",
       "      <td>2022-12-29T09:23:00.000</td>\n",
       "      <td>2021-12-28T00:00:00.000</td>\n",
       "      <td>Euthanasia</td>\n",
       "      <td>Rabies Risk</td>\n",
       "      <td>Other</td>\n",
       "      <td>Unknown</td>\n",
       "      <td>1 year</td>\n",
       "      <td>Bat</td>\n",
       "      <td>Black</td>\n",
       "      <td>NaN</td>\n",
       "      <td>1 years</td>\n",
       "      <td>Unknown</td>\n",
       "    </tr>\n",
       "    <tr>\n",
       "      <th>561</th>\n",
       "      <td>A871595</td>\n",
       "      <td>2022-12-28 14:38:00</td>\n",
       "      <td>2022-12-28T14:38:00.000</td>\n",
       "      <td>2019-12-27T00:00:00.000</td>\n",
       "      <td>Transfer</td>\n",
       "      <td>Partner</td>\n",
       "      <td>Other</td>\n",
       "      <td>Unknown</td>\n",
       "      <td>3 years</td>\n",
       "      <td>Guinea Pig</td>\n",
       "      <td>Tortie</td>\n",
       "      <td>Collie</td>\n",
       "      <td>3 years</td>\n",
       "      <td>Unknown</td>\n",
       "    </tr>\n",
       "    <tr>\n",
       "      <th>562</th>\n",
       "      <td>A871594</td>\n",
       "      <td>2022-12-28 14:37:00</td>\n",
       "      <td>2022-12-28T14:37:00.000</td>\n",
       "      <td>2019-12-27T00:00:00.000</td>\n",
       "      <td>Transfer</td>\n",
       "      <td>Partner</td>\n",
       "      <td>Other</td>\n",
       "      <td>Unknown</td>\n",
       "      <td>3 years</td>\n",
       "      <td>Guinea Pig</td>\n",
       "      <td>Red/White</td>\n",
       "      <td>Bear</td>\n",
       "      <td>3 years</td>\n",
       "      <td>Unknown</td>\n",
       "    </tr>\n",
       "    <tr>\n",
       "      <th>600</th>\n",
       "      <td>A860881</td>\n",
       "      <td>2022-12-27 13:21:00</td>\n",
       "      <td>2022-12-27T13:21:00.000</td>\n",
       "      <td>2022-03-05T00:00:00.000</td>\n",
       "      <td>Adoption</td>\n",
       "      <td>Foster</td>\n",
       "      <td>Other</td>\n",
       "      <td>Spayed Female</td>\n",
       "      <td>9 months</td>\n",
       "      <td>Rabbit Sh</td>\n",
       "      <td>White</td>\n",
       "      <td>*Chacha</td>\n",
       "      <td>9 months</td>\n",
       "      <td>Female</td>\n",
       "    </tr>\n",
       "    <tr>\n",
       "      <th>611</th>\n",
       "      <td>A871415</td>\n",
       "      <td>2022-12-27 11:23:00</td>\n",
       "      <td>2022-12-27T11:23:00.000</td>\n",
       "      <td>2022-10-23T00:00:00.000</td>\n",
       "      <td>Transfer</td>\n",
       "      <td>Partner</td>\n",
       "      <td>Other</td>\n",
       "      <td>Intact Female</td>\n",
       "      <td>2 months</td>\n",
       "      <td>Rabbit Sh</td>\n",
       "      <td>White</td>\n",
       "      <td>A871415</td>\n",
       "      <td>2 months</td>\n",
       "      <td>Female</td>\n",
       "    </tr>\n",
       "    <tr>\n",
       "      <th>631</th>\n",
       "      <td>A871436</td>\n",
       "      <td>2022-12-23 15:40:00</td>\n",
       "      <td>2022-12-23T15:40:00.000</td>\n",
       "      <td>2020-12-23T00:00:00.000</td>\n",
       "      <td>Euthanasia</td>\n",
       "      <td>Rabies Risk</td>\n",
       "      <td>Other</td>\n",
       "      <td>Unknown</td>\n",
       "      <td>NULL</td>\n",
       "      <td>Coyote</td>\n",
       "      <td>Gray/Brown</td>\n",
       "      <td>A871436</td>\n",
       "      <td>NULL</td>\n",
       "      <td>Unknown</td>\n",
       "    </tr>\n",
       "    <tr>\n",
       "      <th>642</th>\n",
       "      <td>A869604</td>\n",
       "      <td>2022-12-23 09:25:00</td>\n",
       "      <td>2022-12-23T09:25:00.000</td>\n",
       "      <td>2022-10-22T00:00:00.000</td>\n",
       "      <td>Adoption</td>\n",
       "      <td>Foster</td>\n",
       "      <td>Other</td>\n",
       "      <td>Intact Male</td>\n",
       "      <td>2 months</td>\n",
       "      <td>Angora-English</td>\n",
       "      <td>White</td>\n",
       "      <td>*Kisses</td>\n",
       "      <td>2 months</td>\n",
       "      <td>Male</td>\n",
       "    </tr>\n",
       "    <tr>\n",
       "      <th>699</th>\n",
       "      <td>A871148</td>\n",
       "      <td>2022-12-21 16:44:00</td>\n",
       "      <td>2022-12-21T16:44:00.000</td>\n",
       "      <td>2021-12-19T00:00:00.000</td>\n",
       "      <td>Return to Owner</td>\n",
       "      <td>Field</td>\n",
       "      <td>Other</td>\n",
       "      <td>Intact Female</td>\n",
       "      <td>1 year</td>\n",
       "      <td>Snake</td>\n",
       "      <td>Yellow/White</td>\n",
       "      <td>Snow</td>\n",
       "      <td>1 years</td>\n",
       "      <td>Female</td>\n",
       "    </tr>\n",
       "    <tr>\n",
       "      <th>739</th>\n",
       "      <td>A871212</td>\n",
       "      <td>2022-12-21 13:05:00</td>\n",
       "      <td>2022-12-21T13:05:00.000</td>\n",
       "      <td>2021-12-20T00:00:00.000</td>\n",
       "      <td>Transfer</td>\n",
       "      <td>Partner</td>\n",
       "      <td>Other</td>\n",
       "      <td>Intact Male</td>\n",
       "      <td>1 year</td>\n",
       "      <td>New Zealand Wht/Lop-Holland</td>\n",
       "      <td>White</td>\n",
       "      <td>Kone</td>\n",
       "      <td>1 years</td>\n",
       "      <td>Male</td>\n",
       "    </tr>\n",
       "    <tr>\n",
       "      <th>751</th>\n",
       "      <td>A871195</td>\n",
       "      <td>2022-12-21 11:17:00</td>\n",
       "      <td>2022-12-21T11:17:00.000</td>\n",
       "      <td>2021-07-20T00:00:00.000</td>\n",
       "      <td>Transfer</td>\n",
       "      <td>Partner</td>\n",
       "      <td>Other</td>\n",
       "      <td>Intact Female</td>\n",
       "      <td>1 year</td>\n",
       "      <td>Guinea Pig</td>\n",
       "      <td>Tan/White</td>\n",
       "      <td>Brownie</td>\n",
       "      <td>1 years</td>\n",
       "      <td>Female</td>\n",
       "    </tr>\n",
       "    <tr>\n",
       "      <th>752</th>\n",
       "      <td>A871193</td>\n",
       "      <td>2022-12-21 11:11:00</td>\n",
       "      <td>2022-12-21T11:11:00.000</td>\n",
       "      <td>2021-07-20T00:00:00.000</td>\n",
       "      <td>Transfer</td>\n",
       "      <td>Partner</td>\n",
       "      <td>Other</td>\n",
       "      <td>Intact Female</td>\n",
       "      <td>1 year</td>\n",
       "      <td>Guinea Pig</td>\n",
       "      <td>Tricolor</td>\n",
       "      <td>Coco</td>\n",
       "      <td>1 years</td>\n",
       "      <td>Female</td>\n",
       "    </tr>\n",
       "    <tr>\n",
       "      <th>753</th>\n",
       "      <td>A871194</td>\n",
       "      <td>2022-12-21 11:11:00</td>\n",
       "      <td>2022-12-21T11:11:00.000</td>\n",
       "      <td>2021-07-20T00:00:00.000</td>\n",
       "      <td>Transfer</td>\n",
       "      <td>Partner</td>\n",
       "      <td>Other</td>\n",
       "      <td>Intact Female</td>\n",
       "      <td>1 year</td>\n",
       "      <td>Guinea Pig</td>\n",
       "      <td>White/Tan</td>\n",
       "      <td>Cookie</td>\n",
       "      <td>1 years</td>\n",
       "      <td>Female</td>\n",
       "    </tr>\n",
       "    <tr>\n",
       "      <th>769</th>\n",
       "      <td>A869606</td>\n",
       "      <td>2022-12-20 17:38:00</td>\n",
       "      <td>2022-12-20T17:38:00.000</td>\n",
       "      <td>2022-10-22T00:00:00.000</td>\n",
       "      <td>Adoption</td>\n",
       "      <td>Foster</td>\n",
       "      <td>Other</td>\n",
       "      <td>Intact Female</td>\n",
       "      <td>1 month</td>\n",
       "      <td>Angora-English</td>\n",
       "      <td>Tan</td>\n",
       "      <td>*Cuddles</td>\n",
       "      <td>1 month</td>\n",
       "      <td>Female</td>\n",
       "    </tr>\n",
       "    <tr>\n",
       "      <th>891</th>\n",
       "      <td>A871029</td>\n",
       "      <td>2022-12-17 12:11:00</td>\n",
       "      <td>2022-12-17T12:11:00.000</td>\n",
       "      <td>2020-12-17T00:00:00.000</td>\n",
       "      <td>Euthanasia</td>\n",
       "      <td>NaN</td>\n",
       "      <td>Other</td>\n",
       "      <td>Unknown</td>\n",
       "      <td>2 years</td>\n",
       "      <td>Raccoon</td>\n",
       "      <td>Gray/Black</td>\n",
       "      <td>NaN</td>\n",
       "      <td>2 years</td>\n",
       "      <td>Unknown</td>\n",
       "    </tr>\n",
       "    <tr>\n",
       "      <th>895</th>\n",
       "      <td>A870826</td>\n",
       "      <td>2022-12-17 11:20:00</td>\n",
       "      <td>2022-12-17T11:20:00.000</td>\n",
       "      <td>2019-12-13T00:00:00.000</td>\n",
       "      <td>Euthanasia</td>\n",
       "      <td>Suffering</td>\n",
       "      <td>Other</td>\n",
       "      <td>Intact Male</td>\n",
       "      <td>3 years</td>\n",
       "      <td>Opossum</td>\n",
       "      <td>Gray/White</td>\n",
       "      <td>NaN</td>\n",
       "      <td>3 years</td>\n",
       "      <td>Male</td>\n",
       "    </tr>\n",
       "    <tr>\n",
       "      <th>897</th>\n",
       "      <td>A871018</td>\n",
       "      <td>2022-12-17 09:22:00</td>\n",
       "      <td>2022-12-17T09:22:00.000</td>\n",
       "      <td>2020-12-16T00:00:00.000</td>\n",
       "      <td>Euthanasia</td>\n",
       "      <td>Suffering</td>\n",
       "      <td>Other</td>\n",
       "      <td>Unknown</td>\n",
       "      <td>2 years</td>\n",
       "      <td>Opossum</td>\n",
       "      <td>Gray</td>\n",
       "      <td>NaN</td>\n",
       "      <td>2 years</td>\n",
       "      <td>Unknown</td>\n",
       "    </tr>\n",
       "    <tr>\n",
       "      <th>931</th>\n",
       "      <td>A870541</td>\n",
       "      <td>2022-12-15 17:42:00</td>\n",
       "      <td>2022-12-15T17:42:00.000</td>\n",
       "      <td>2019-12-08T00:00:00.000</td>\n",
       "      <td>Adoption</td>\n",
       "      <td>NaN</td>\n",
       "      <td>Other</td>\n",
       "      <td>Intact Female</td>\n",
       "      <td>3 years</td>\n",
       "      <td>Rabbit Sh</td>\n",
       "      <td>Brown/White</td>\n",
       "      <td>*Bitsy</td>\n",
       "      <td>3 years</td>\n",
       "      <td>Female</td>\n",
       "    </tr>\n",
       "    <tr>\n",
       "      <th>954</th>\n",
       "      <td>A870860</td>\n",
       "      <td>2022-12-15 11:04:00</td>\n",
       "      <td>2022-12-15T11:04:00.000</td>\n",
       "      <td>2022-08-14T00:00:00.000</td>\n",
       "      <td>Transfer</td>\n",
       "      <td>Partner</td>\n",
       "      <td>Other</td>\n",
       "      <td>Intact Female</td>\n",
       "      <td>4 months</td>\n",
       "      <td>Guinea Pig</td>\n",
       "      <td>Orange/White</td>\n",
       "      <td>*Gum Drop</td>\n",
       "      <td>4 months</td>\n",
       "      <td>Female</td>\n",
       "    </tr>\n",
       "    <tr>\n",
       "      <th>955</th>\n",
       "      <td>A870858</td>\n",
       "      <td>2022-12-15 11:04:00</td>\n",
       "      <td>2022-12-15T11:04:00.000</td>\n",
       "      <td>2022-08-14T00:00:00.000</td>\n",
       "      <td>Transfer</td>\n",
       "      <td>Partner</td>\n",
       "      <td>Other</td>\n",
       "      <td>Intact Female</td>\n",
       "      <td>4 months</td>\n",
       "      <td>Guinea Pig</td>\n",
       "      <td>White/Brown</td>\n",
       "      <td>*Sugar Plum</td>\n",
       "      <td>4 months</td>\n",
       "      <td>Female</td>\n",
       "    </tr>\n",
       "    <tr>\n",
       "      <th>976</th>\n",
       "      <td>A870777</td>\n",
       "      <td>2022-12-14 09:31:00</td>\n",
       "      <td>2022-12-14T09:31:00.000</td>\n",
       "      <td>2021-12-12T00:00:00.000</td>\n",
       "      <td>Transfer</td>\n",
       "      <td>Partner</td>\n",
       "      <td>Other</td>\n",
       "      <td>Unknown</td>\n",
       "      <td>1 year</td>\n",
       "      <td>Lizard</td>\n",
       "      <td>Tan</td>\n",
       "      <td>NaN</td>\n",
       "      <td>1 years</td>\n",
       "      <td>Unknown</td>\n",
       "    </tr>\n",
       "    <tr>\n",
       "      <th>984</th>\n",
       "      <td>A870825</td>\n",
       "      <td>2022-12-13 17:20:00</td>\n",
       "      <td>2022-12-13T17:20:00.000</td>\n",
       "      <td>2021-12-13T00:00:00.000</td>\n",
       "      <td>Euthanasia</td>\n",
       "      <td>Rabies Risk</td>\n",
       "      <td>Other</td>\n",
       "      <td>Unknown</td>\n",
       "      <td>NULL</td>\n",
       "      <td>Raccoon</td>\n",
       "      <td>Brown/Black</td>\n",
       "      <td>NaN</td>\n",
       "      <td>NULL</td>\n",
       "      <td>Unknown</td>\n",
       "    </tr>\n",
       "  </tbody>\n",
       "</table>\n",
       "</div>"
      ],
      "text/plain": [
       "    animal_id            datetime                monthyear  \\\n",
       "0     A872832 2023-01-16 17:01:00  2023-01-16T17:01:00.000   \n",
       "1     A872077 2023-01-16 10:32:00  2023-01-16T10:32:00.000   \n",
       "2     A872076 2023-01-16 10:31:00  2023-01-16T10:31:00.000   \n",
       "29    A872776 2023-01-15 12:20:00  2023-01-15T12:20:00.000   \n",
       "36    A872507 2023-01-14 19:41:00  2023-01-14T19:41:00.000   \n",
       "37    A872459 2023-01-14 19:40:00  2023-01-14T19:40:00.000   \n",
       "69    A872710 2023-01-13 18:49:00  2023-01-13T18:49:00.000   \n",
       "90    A872428 2023-01-13 15:20:00  2023-01-13T15:20:00.000   \n",
       "320   A872090 2023-01-06 11:32:00  2023-01-06T11:32:00.000   \n",
       "350   A872162 2023-01-05 11:26:00  2023-01-05T11:26:00.000   \n",
       "359   A872091 2023-01-05 08:44:00  2023-01-05T08:44:00.000   \n",
       "361   A872132 2023-01-05 00:00:00  2023-01-05T00:00:00.000   \n",
       "393   A871649 2023-01-04 09:00:00  2023-01-04T09:00:00.000   \n",
       "394   A871650 2023-01-04 09:00:00  2023-01-04T09:00:00.000   \n",
       "395   A871651 2023-01-04 09:00:00  2023-01-04T09:00:00.000   \n",
       "419   A871803 2023-01-03 16:00:00  2023-01-03T16:00:00.000   \n",
       "420   A871804 2023-01-03 15:59:00  2023-01-03T15:59:00.000   \n",
       "431   A871781 2023-01-03 11:21:00  2023-01-03T11:21:00.000   \n",
       "432   A871787 2023-01-03 11:21:00  2023-01-03T11:21:00.000   \n",
       "435   A871774 2023-01-02 19:37:00  2023-01-02T19:37:00.000   \n",
       "520   A871735 2022-12-29 12:08:00  2022-12-29T12:08:00.000   \n",
       "521   A871724 2022-12-29 12:06:00  2022-12-29T12:06:00.000   \n",
       "523   A871733 2022-12-29 12:02:00  2022-12-29T12:02:00.000   \n",
       "527   A871716 2022-12-29 09:23:00  2022-12-29T09:23:00.000   \n",
       "528   A871714 2022-12-29 09:23:00  2022-12-29T09:23:00.000   \n",
       "561   A871595 2022-12-28 14:38:00  2022-12-28T14:38:00.000   \n",
       "562   A871594 2022-12-28 14:37:00  2022-12-28T14:37:00.000   \n",
       "600   A860881 2022-12-27 13:21:00  2022-12-27T13:21:00.000   \n",
       "611   A871415 2022-12-27 11:23:00  2022-12-27T11:23:00.000   \n",
       "631   A871436 2022-12-23 15:40:00  2022-12-23T15:40:00.000   \n",
       "642   A869604 2022-12-23 09:25:00  2022-12-23T09:25:00.000   \n",
       "699   A871148 2022-12-21 16:44:00  2022-12-21T16:44:00.000   \n",
       "739   A871212 2022-12-21 13:05:00  2022-12-21T13:05:00.000   \n",
       "751   A871195 2022-12-21 11:17:00  2022-12-21T11:17:00.000   \n",
       "752   A871193 2022-12-21 11:11:00  2022-12-21T11:11:00.000   \n",
       "753   A871194 2022-12-21 11:11:00  2022-12-21T11:11:00.000   \n",
       "769   A869606 2022-12-20 17:38:00  2022-12-20T17:38:00.000   \n",
       "891   A871029 2022-12-17 12:11:00  2022-12-17T12:11:00.000   \n",
       "895   A870826 2022-12-17 11:20:00  2022-12-17T11:20:00.000   \n",
       "897   A871018 2022-12-17 09:22:00  2022-12-17T09:22:00.000   \n",
       "931   A870541 2022-12-15 17:42:00  2022-12-15T17:42:00.000   \n",
       "954   A870860 2022-12-15 11:04:00  2022-12-15T11:04:00.000   \n",
       "955   A870858 2022-12-15 11:04:00  2022-12-15T11:04:00.000   \n",
       "976   A870777 2022-12-14 09:31:00  2022-12-14T09:31:00.000   \n",
       "984   A870825 2022-12-13 17:20:00  2022-12-13T17:20:00.000   \n",
       "\n",
       "               date_of_birth     outcome_type outcome_subtype animal_type  \\\n",
       "0    2022-01-16T00:00:00.000       Euthanasia       Suffering       Other   \n",
       "1    2022-12-03T00:00:00.000         Adoption             NaN       Other   \n",
       "2    2022-01-03T00:00:00.000         Adoption             NaN       Other   \n",
       "29   2021-01-15T00:00:00.000       Euthanasia     Rabies Risk       Other   \n",
       "36   2022-01-10T00:00:00.000       Euthanasia         Medical       Other   \n",
       "37   2021-01-10T00:00:00.000       Euthanasia         Medical       Other   \n",
       "69   2021-01-13T00:00:00.000       Euthanasia     Rabies Risk       Other   \n",
       "90   2019-01-09T00:00:00.000         Adoption             NaN       Other   \n",
       "320  2020-01-06T00:00:00.000  Return to Owner             NaN       Other   \n",
       "350  2021-01-05T00:00:00.000       Euthanasia     Rabies Risk       Other   \n",
       "359  2021-01-04T00:00:00.000       Euthanasia     Rabies Risk       Other   \n",
       "361  2022-11-04T00:00:00.000         Transfer         Partner       Other   \n",
       "393  2021-12-27T00:00:00.000         Transfer         Partner       Other   \n",
       "394  2021-12-27T00:00:00.000         Transfer         Partner       Other   \n",
       "395  2021-12-27T00:00:00.000         Transfer         Partner       Other   \n",
       "419  2022-08-30T00:00:00.000         Adoption             NaN       Other   \n",
       "420  2022-08-30T00:00:00.000         Adoption             NaN       Other   \n",
       "431  2021-12-29T00:00:00.000       Euthanasia     Rabies Risk       Other   \n",
       "432  2020-12-30T00:00:00.000       Euthanasia     Rabies Risk       Other   \n",
       "435  2021-12-29T00:00:00.000       Euthanasia     Rabies Risk       Other   \n",
       "520  2020-12-29T00:00:00.000       Euthanasia     Rabies Risk       Other   \n",
       "521  2020-12-29T00:00:00.000       Euthanasia     Rabies Risk       Other   \n",
       "523  2020-12-29T00:00:00.000       Euthanasia     Rabies Risk       Other   \n",
       "527  2020-12-28T00:00:00.000       Euthanasia     Rabies Risk       Other   \n",
       "528  2021-12-28T00:00:00.000       Euthanasia     Rabies Risk       Other   \n",
       "561  2019-12-27T00:00:00.000         Transfer         Partner       Other   \n",
       "562  2019-12-27T00:00:00.000         Transfer         Partner       Other   \n",
       "600  2022-03-05T00:00:00.000         Adoption          Foster       Other   \n",
       "611  2022-10-23T00:00:00.000         Transfer         Partner       Other   \n",
       "631  2020-12-23T00:00:00.000       Euthanasia     Rabies Risk       Other   \n",
       "642  2022-10-22T00:00:00.000         Adoption          Foster       Other   \n",
       "699  2021-12-19T00:00:00.000  Return to Owner           Field       Other   \n",
       "739  2021-12-20T00:00:00.000         Transfer         Partner       Other   \n",
       "751  2021-07-20T00:00:00.000         Transfer         Partner       Other   \n",
       "752  2021-07-20T00:00:00.000         Transfer         Partner       Other   \n",
       "753  2021-07-20T00:00:00.000         Transfer         Partner       Other   \n",
       "769  2022-10-22T00:00:00.000         Adoption          Foster       Other   \n",
       "891  2020-12-17T00:00:00.000       Euthanasia             NaN       Other   \n",
       "895  2019-12-13T00:00:00.000       Euthanasia       Suffering       Other   \n",
       "897  2020-12-16T00:00:00.000       Euthanasia       Suffering       Other   \n",
       "931  2019-12-08T00:00:00.000         Adoption             NaN       Other   \n",
       "954  2022-08-14T00:00:00.000         Transfer         Partner       Other   \n",
       "955  2022-08-14T00:00:00.000         Transfer         Partner       Other   \n",
       "976  2021-12-12T00:00:00.000         Transfer         Partner       Other   \n",
       "984  2021-12-13T00:00:00.000       Euthanasia     Rabies Risk       Other   \n",
       "\n",
       "    sex_upon_outcome age_upon_outcome                        breed  \\\n",
       "0            Unknown             NULL                      Raccoon   \n",
       "1            Unknown          1 month                       Lizard   \n",
       "2            Unknown           1 year                       Lizard   \n",
       "29           Unknown          2 years                      Raccoon   \n",
       "36           Unknown           1 year                     Squirrel   \n",
       "37           Unknown          2 years                      Opossum   \n",
       "69           Unknown          2 years                          Fox   \n",
       "90     Intact Female          4 years                    Rabbit Sh   \n",
       "320    Intact Female          3 years                 Snake/Python   \n",
       "350          Unknown             NULL                      Raccoon   \n",
       "359          Unknown          2 years                      Raccoon   \n",
       "361          Unknown         2 months                    Rabbit Sh   \n",
       "393          Unknown           1 year                   Guinea Pig   \n",
       "394          Unknown           1 year                   Guinea Pig   \n",
       "395          Unknown           1 year                   Guinea Pig   \n",
       "419      Intact Male         4 months                   Guinea Pig   \n",
       "420      Intact Male         4 months                   Guinea Pig   \n",
       "431          Unknown           1 year                          Bat   \n",
       "432          Unknown          2 years                          Bat   \n",
       "435          Unknown           1 year                          Bat   \n",
       "520          Unknown          2 years                      Raccoon   \n",
       "521          Unknown          2 years                      Raccoon   \n",
       "523          Unknown          2 years                        Skunk   \n",
       "527          Unknown          2 years                          Bat   \n",
       "528          Unknown           1 year                          Bat   \n",
       "561          Unknown          3 years                   Guinea Pig   \n",
       "562          Unknown          3 years                   Guinea Pig   \n",
       "600    Spayed Female         9 months                    Rabbit Sh   \n",
       "611    Intact Female         2 months                    Rabbit Sh   \n",
       "631          Unknown             NULL                       Coyote   \n",
       "642      Intact Male         2 months               Angora-English   \n",
       "699    Intact Female           1 year                        Snake   \n",
       "739      Intact Male           1 year  New Zealand Wht/Lop-Holland   \n",
       "751    Intact Female           1 year                   Guinea Pig   \n",
       "752    Intact Female           1 year                   Guinea Pig   \n",
       "753    Intact Female           1 year                   Guinea Pig   \n",
       "769    Intact Female          1 month               Angora-English   \n",
       "891          Unknown          2 years                      Raccoon   \n",
       "895      Intact Male          3 years                      Opossum   \n",
       "897          Unknown          2 years                      Opossum   \n",
       "931    Intact Female          3 years                    Rabbit Sh   \n",
       "954    Intact Female         4 months                   Guinea Pig   \n",
       "955    Intact Female         4 months                   Guinea Pig   \n",
       "976          Unknown           1 year                       Lizard   \n",
       "984          Unknown             NULL                      Raccoon   \n",
       "\n",
       "            color         name  new_age1 new_sex1  \n",
       "0           Brown          NaN      NULL  Unknown  \n",
       "1             Tan          NaN   1 month  Unknown  \n",
       "2             Tan          NaN   1 years  Unknown  \n",
       "29     Gray/White          NaN   2 years  Unknown  \n",
       "36           Gray          NaN   1 years  Unknown  \n",
       "37           Gray          NaN   2 years  Unknown  \n",
       "69     Brown/Gray          NaN   2 years  Unknown  \n",
       "90          Black          NaN   4 years   Female  \n",
       "320   Brown/Black         Baby   3 years   Female  \n",
       "350    Gray/Black          NaN      NULL  Unknown  \n",
       "359   Black/White          NaN   2 years  Unknown  \n",
       "361         Brown          NaN  2 months  Unknown  \n",
       "393        Calico          NaN   1 years  Unknown  \n",
       "394        Calico          NaN   1 years  Unknown  \n",
       "395   White/Black          NaN   1 years  Unknown  \n",
       "419   White/Brown       *Lenny  4 months     Male  \n",
       "420    White/Gray        *Carl  4 months     Male  \n",
       "431         Brown          NaN   1 years  Unknown  \n",
       "432         Brown      A871787   2 years  Unknown  \n",
       "435   Brown/Brown          NaN   1 years  Unknown  \n",
       "520   Brown/Black      A871735   2 years  Unknown  \n",
       "521    Gray/Black          NaN   2 years  Unknown  \n",
       "523   Black/White          NaN   2 years  Unknown  \n",
       "527         Brown          NaN   2 years  Unknown  \n",
       "528         Black          NaN   1 years  Unknown  \n",
       "561        Tortie       Collie   3 years  Unknown  \n",
       "562     Red/White         Bear   3 years  Unknown  \n",
       "600         White      *Chacha  9 months   Female  \n",
       "611         White      A871415  2 months   Female  \n",
       "631    Gray/Brown      A871436      NULL  Unknown  \n",
       "642         White      *Kisses  2 months     Male  \n",
       "699  Yellow/White         Snow   1 years   Female  \n",
       "739         White         Kone   1 years     Male  \n",
       "751     Tan/White      Brownie   1 years   Female  \n",
       "752      Tricolor         Coco   1 years   Female  \n",
       "753     White/Tan       Cookie   1 years   Female  \n",
       "769           Tan     *Cuddles   1 month   Female  \n",
       "891    Gray/Black          NaN   2 years  Unknown  \n",
       "895    Gray/White          NaN   3 years     Male  \n",
       "897          Gray          NaN   2 years  Unknown  \n",
       "931   Brown/White       *Bitsy   3 years   Female  \n",
       "954  Orange/White    *Gum Drop  4 months   Female  \n",
       "955   White/Brown  *Sugar Plum  4 months   Female  \n",
       "976           Tan          NaN   1 years  Unknown  \n",
       "984   Brown/Black          NaN      NULL  Unknown  "
      ]
     },
     "execution_count": 18,
     "metadata": {},
     "output_type": "execute_result"
    }
   ],
   "source": [
    "animals[animals['animal_type'] == 'Other']"
   ]
  },
  {
   "cell_type": "code",
   "execution_count": 19,
   "metadata": {
    "hidden": true
   },
   "outputs": [
    {
     "data": {
      "text/plain": [
       "Dog      510\n",
       "Cat      411\n",
       "Other     45\n",
       "Bird      34\n",
       "Name: animal_type, dtype: int64"
      ]
     },
     "execution_count": 19,
     "metadata": {},
     "output_type": "execute_result"
    }
   ],
   "source": [
    "animals['animal_type'].value_counts()"
   ]
  },
  {
   "cell_type": "code",
   "execution_count": 20,
   "metadata": {
    "hidden": true,
    "scrolled": true
   },
   "outputs": [
    {
     "data": {
      "text/plain": [
       "\"np.nan is a filler that provide null but can't be counted. but can be calculated as 0***Mine\""
      ]
     },
     "execution_count": 20,
     "metadata": {},
     "output_type": "execute_result"
    }
   ],
   "source": [
    "animals['animal_type'].map(lambda x: np.nan if x == 'Other' else x).value_counts()\n",
    "\n",
    "\"\"\"np.nan is a filler that provide null but can't be counted. but can be calculated as 0***Mine\"\"\""
   ]
  },
  {
   "cell_type": "markdown",
   "metadata": {
    "heading_collapsed": true
   },
   "source": [
    "# Handling Missing Data"
   ]
  },
  {
   "cell_type": "markdown",
   "metadata": {
    "hidden": true
   },
   "source": [
    "A lot of the times we'll have missing information in our data set. This can sometimes be troublesome in what we're trying to do."
   ]
  },
  {
   "cell_type": "markdown",
   "metadata": {
    "hidden": true
   },
   "source": [
    "So far, we've been doing some preprocessing/cleaning to answer questions. Now we're going to handle the missing values in our data.\n",
    "\n",
    "There are a few strategies we can choose from and they each have their special use case."
   ]
  },
  {
   "cell_type": "markdown",
   "metadata": {
    "hidden": true
   },
   "source": [
    "> Before making changes, it's convenient to make changes to a copy instead of overwriting data. We'll keep all our changes in `animals_clean` which will be a [copy](https://pandas.pydata.org/docs/reference/api/pandas.DataFrame.copy.html) of the original DataFrame."
   ]
  },
  {
   "cell_type": "code",
   "execution_count": 21,
   "metadata": {
    "hidden": true
   },
   "outputs": [],
   "source": [
    "animals_clean = animals.copy()"
   ]
  },
  {
   "cell_type": "markdown",
   "metadata": {
    "heading_collapsed": true,
    "hidden": true
   },
   "source": [
    "## Fill with a Relevant Value"
   ]
  },
  {
   "cell_type": "markdown",
   "metadata": {
    "hidden": true
   },
   "source": [
    "A lot of times we already have an idea of how we want to specify that a value was missing and replace it with a value that makes more sense than an \"empty\" value."
   ]
  },
  {
   "cell_type": "markdown",
   "metadata": {
    "hidden": true
   },
   "source": [
    "For example, it might make sense to fill the value as \"MISSING\" or \"UNKNOWN\". This way it's clearer when do more analysis."
   ]
  },
  {
   "cell_type": "markdown",
   "metadata": {
    "hidden": true
   },
   "source": [
    "> We can use Pandas' [`fillna()` method](https://pandas.pydata.org/pandas-docs/stable/reference/api/pandas.DataFrame.fillna.html) to replace missing values with something specific"
   ]
  },
  {
   "cell_type": "code",
   "execution_count": 22,
   "metadata": {
    "hidden": true
   },
   "outputs": [
    {
     "data": {
      "text/html": [
       "<div>\n",
       "<style scoped>\n",
       "    .dataframe tbody tr th:only-of-type {\n",
       "        vertical-align: middle;\n",
       "    }\n",
       "\n",
       "    .dataframe tbody tr th {\n",
       "        vertical-align: top;\n",
       "    }\n",
       "\n",
       "    .dataframe thead th {\n",
       "        text-align: right;\n",
       "    }\n",
       "</style>\n",
       "<table border=\"1\" class=\"dataframe\">\n",
       "  <thead>\n",
       "    <tr style=\"text-align: right;\">\n",
       "      <th></th>\n",
       "      <th>animal_id</th>\n",
       "      <th>datetime</th>\n",
       "      <th>monthyear</th>\n",
       "      <th>date_of_birth</th>\n",
       "      <th>outcome_type</th>\n",
       "      <th>outcome_subtype</th>\n",
       "      <th>animal_type</th>\n",
       "      <th>sex_upon_outcome</th>\n",
       "      <th>age_upon_outcome</th>\n",
       "      <th>breed</th>\n",
       "      <th>color</th>\n",
       "      <th>name</th>\n",
       "      <th>new_age1</th>\n",
       "      <th>new_sex1</th>\n",
       "    </tr>\n",
       "  </thead>\n",
       "  <tbody>\n",
       "    <tr>\n",
       "      <th>0</th>\n",
       "      <td>A872832</td>\n",
       "      <td>2023-01-16 17:01:00</td>\n",
       "      <td>2023-01-16T17:01:00.000</td>\n",
       "      <td>2022-01-16T00:00:00.000</td>\n",
       "      <td>Euthanasia</td>\n",
       "      <td>Suffering</td>\n",
       "      <td>Other</td>\n",
       "      <td>Unknown</td>\n",
       "      <td>NULL</td>\n",
       "      <td>Raccoon</td>\n",
       "      <td>Brown</td>\n",
       "      <td>UNKNOWN</td>\n",
       "      <td>NULL</td>\n",
       "      <td>Unknown</td>\n",
       "    </tr>\n",
       "    <tr>\n",
       "      <th>1</th>\n",
       "      <td>A872077</td>\n",
       "      <td>2023-01-16 10:32:00</td>\n",
       "      <td>2023-01-16T10:32:00.000</td>\n",
       "      <td>2022-12-03T00:00:00.000</td>\n",
       "      <td>Adoption</td>\n",
       "      <td>NaN</td>\n",
       "      <td>Other</td>\n",
       "      <td>Unknown</td>\n",
       "      <td>1 month</td>\n",
       "      <td>Lizard</td>\n",
       "      <td>Tan</td>\n",
       "      <td>UNKNOWN</td>\n",
       "      <td>1 month</td>\n",
       "      <td>Unknown</td>\n",
       "    </tr>\n",
       "    <tr>\n",
       "      <th>2</th>\n",
       "      <td>A872076</td>\n",
       "      <td>2023-01-16 10:31:00</td>\n",
       "      <td>2023-01-16T10:31:00.000</td>\n",
       "      <td>2022-01-03T00:00:00.000</td>\n",
       "      <td>Adoption</td>\n",
       "      <td>NaN</td>\n",
       "      <td>Other</td>\n",
       "      <td>Unknown</td>\n",
       "      <td>1 year</td>\n",
       "      <td>Lizard</td>\n",
       "      <td>Tan</td>\n",
       "      <td>UNKNOWN</td>\n",
       "      <td>1 years</td>\n",
       "      <td>Unknown</td>\n",
       "    </tr>\n",
       "    <tr>\n",
       "      <th>3</th>\n",
       "      <td>A872719</td>\n",
       "      <td>2023-01-16 10:20:00</td>\n",
       "      <td>2023-01-16T10:20:00.000</td>\n",
       "      <td>2013-01-14T00:00:00.000</td>\n",
       "      <td>Euthanasia</td>\n",
       "      <td>Suffering</td>\n",
       "      <td>Cat</td>\n",
       "      <td>Intact Female</td>\n",
       "      <td>NULL</td>\n",
       "      <td>Domestic Shorthair</td>\n",
       "      <td>Tortie</td>\n",
       "      <td>UNKNOWN</td>\n",
       "      <td>NULL</td>\n",
       "      <td>Female</td>\n",
       "    </tr>\n",
       "    <tr>\n",
       "      <th>4</th>\n",
       "      <td>A870159</td>\n",
       "      <td>2023-01-15 18:52:00</td>\n",
       "      <td>2023-01-15T18:52:00.000</td>\n",
       "      <td>2021-06-01T00:00:00.000</td>\n",
       "      <td>Adoption</td>\n",
       "      <td>NaN</td>\n",
       "      <td>Dog</td>\n",
       "      <td>Neutered Male</td>\n",
       "      <td>1 year</td>\n",
       "      <td>Labrador Retriever Mix</td>\n",
       "      <td>Black/White</td>\n",
       "      <td>*Tooni</td>\n",
       "      <td>1 years</td>\n",
       "      <td>Male</td>\n",
       "    </tr>\n",
       "  </tbody>\n",
       "</table>\n",
       "</div>"
      ],
      "text/plain": [
       "  animal_id            datetime                monthyear  \\\n",
       "0   A872832 2023-01-16 17:01:00  2023-01-16T17:01:00.000   \n",
       "1   A872077 2023-01-16 10:32:00  2023-01-16T10:32:00.000   \n",
       "2   A872076 2023-01-16 10:31:00  2023-01-16T10:31:00.000   \n",
       "3   A872719 2023-01-16 10:20:00  2023-01-16T10:20:00.000   \n",
       "4   A870159 2023-01-15 18:52:00  2023-01-15T18:52:00.000   \n",
       "\n",
       "             date_of_birth outcome_type outcome_subtype animal_type  \\\n",
       "0  2022-01-16T00:00:00.000   Euthanasia       Suffering       Other   \n",
       "1  2022-12-03T00:00:00.000     Adoption             NaN       Other   \n",
       "2  2022-01-03T00:00:00.000     Adoption             NaN       Other   \n",
       "3  2013-01-14T00:00:00.000   Euthanasia       Suffering         Cat   \n",
       "4  2021-06-01T00:00:00.000     Adoption             NaN         Dog   \n",
       "\n",
       "  sex_upon_outcome age_upon_outcome                   breed        color  \\\n",
       "0          Unknown             NULL                 Raccoon        Brown   \n",
       "1          Unknown          1 month                  Lizard          Tan   \n",
       "2          Unknown           1 year                  Lizard          Tan   \n",
       "3    Intact Female             NULL      Domestic Shorthair       Tortie   \n",
       "4    Neutered Male           1 year  Labrador Retriever Mix  Black/White   \n",
       "\n",
       "      name new_age1 new_sex1  \n",
       "0  UNKNOWN     NULL  Unknown  \n",
       "1  UNKNOWN  1 month  Unknown  \n",
       "2  UNKNOWN  1 years  Unknown  \n",
       "3  UNKNOWN     NULL   Female  \n",
       "4   *Tooni  1 years     Male  "
      ]
     },
     "execution_count": 22,
     "metadata": {},
     "output_type": "execute_result"
    }
   ],
   "source": [
    "# Note this creates a copy of `animals` with the missing values replaced\n",
    "animals_name_filled = animals.fillna({'name':'UNKNOWN'}) # {col_name:new_value}\n",
    "animals_name_filled.head()"
   ]
  },
  {
   "cell_type": "code",
   "execution_count": 23,
   "metadata": {
    "hidden": true
   },
   "outputs": [
    {
     "data": {
      "text/html": [
       "<div>\n",
       "<style scoped>\n",
       "    .dataframe tbody tr th:only-of-type {\n",
       "        vertical-align: middle;\n",
       "    }\n",
       "\n",
       "    .dataframe tbody tr th {\n",
       "        vertical-align: top;\n",
       "    }\n",
       "\n",
       "    .dataframe thead th {\n",
       "        text-align: right;\n",
       "    }\n",
       "</style>\n",
       "<table border=\"1\" class=\"dataframe\">\n",
       "  <thead>\n",
       "    <tr style=\"text-align: right;\">\n",
       "      <th></th>\n",
       "      <th>animal_id</th>\n",
       "      <th>datetime</th>\n",
       "      <th>monthyear</th>\n",
       "      <th>date_of_birth</th>\n",
       "      <th>outcome_type</th>\n",
       "      <th>outcome_subtype</th>\n",
       "      <th>animal_type</th>\n",
       "      <th>sex_upon_outcome</th>\n",
       "      <th>age_upon_outcome</th>\n",
       "      <th>breed</th>\n",
       "      <th>color</th>\n",
       "      <th>name</th>\n",
       "      <th>new_age1</th>\n",
       "      <th>new_sex1</th>\n",
       "    </tr>\n",
       "  </thead>\n",
       "  <tbody>\n",
       "    <tr>\n",
       "      <th>0</th>\n",
       "      <td>A872832</td>\n",
       "      <td>2023-01-16 17:01:00</td>\n",
       "      <td>2023-01-16T17:01:00.000</td>\n",
       "      <td>2022-01-16T00:00:00.000</td>\n",
       "      <td>Euthanasia</td>\n",
       "      <td>Suffering</td>\n",
       "      <td>Other</td>\n",
       "      <td>Unknown</td>\n",
       "      <td>NULL</td>\n",
       "      <td>Raccoon</td>\n",
       "      <td>Brown</td>\n",
       "      <td>NaN</td>\n",
       "      <td>NULL</td>\n",
       "      <td>Unknown</td>\n",
       "    </tr>\n",
       "    <tr>\n",
       "      <th>1</th>\n",
       "      <td>A872077</td>\n",
       "      <td>2023-01-16 10:32:00</td>\n",
       "      <td>2023-01-16T10:32:00.000</td>\n",
       "      <td>2022-12-03T00:00:00.000</td>\n",
       "      <td>Adoption</td>\n",
       "      <td>NaN</td>\n",
       "      <td>Other</td>\n",
       "      <td>Unknown</td>\n",
       "      <td>1 month</td>\n",
       "      <td>Lizard</td>\n",
       "      <td>Tan</td>\n",
       "      <td>NaN</td>\n",
       "      <td>1 month</td>\n",
       "      <td>Unknown</td>\n",
       "    </tr>\n",
       "    <tr>\n",
       "      <th>2</th>\n",
       "      <td>A872076</td>\n",
       "      <td>2023-01-16 10:31:00</td>\n",
       "      <td>2023-01-16T10:31:00.000</td>\n",
       "      <td>2022-01-03T00:00:00.000</td>\n",
       "      <td>Adoption</td>\n",
       "      <td>NaN</td>\n",
       "      <td>Other</td>\n",
       "      <td>Unknown</td>\n",
       "      <td>1 year</td>\n",
       "      <td>Lizard</td>\n",
       "      <td>Tan</td>\n",
       "      <td>NaN</td>\n",
       "      <td>1 years</td>\n",
       "      <td>Unknown</td>\n",
       "    </tr>\n",
       "    <tr>\n",
       "      <th>3</th>\n",
       "      <td>A872719</td>\n",
       "      <td>2023-01-16 10:20:00</td>\n",
       "      <td>2023-01-16T10:20:00.000</td>\n",
       "      <td>2013-01-14T00:00:00.000</td>\n",
       "      <td>Euthanasia</td>\n",
       "      <td>Suffering</td>\n",
       "      <td>Cat</td>\n",
       "      <td>Intact Female</td>\n",
       "      <td>NULL</td>\n",
       "      <td>Domestic Shorthair</td>\n",
       "      <td>Tortie</td>\n",
       "      <td>NaN</td>\n",
       "      <td>NULL</td>\n",
       "      <td>Female</td>\n",
       "    </tr>\n",
       "    <tr>\n",
       "      <th>4</th>\n",
       "      <td>A870159</td>\n",
       "      <td>2023-01-15 18:52:00</td>\n",
       "      <td>2023-01-15T18:52:00.000</td>\n",
       "      <td>2021-06-01T00:00:00.000</td>\n",
       "      <td>Adoption</td>\n",
       "      <td>NaN</td>\n",
       "      <td>Dog</td>\n",
       "      <td>Neutered Male</td>\n",
       "      <td>1 year</td>\n",
       "      <td>Labrador Retriever Mix</td>\n",
       "      <td>Black/White</td>\n",
       "      <td>*Tooni</td>\n",
       "      <td>1 years</td>\n",
       "      <td>Male</td>\n",
       "    </tr>\n",
       "  </tbody>\n",
       "</table>\n",
       "</div>"
      ],
      "text/plain": [
       "  animal_id            datetime                monthyear  \\\n",
       "0   A872832 2023-01-16 17:01:00  2023-01-16T17:01:00.000   \n",
       "1   A872077 2023-01-16 10:32:00  2023-01-16T10:32:00.000   \n",
       "2   A872076 2023-01-16 10:31:00  2023-01-16T10:31:00.000   \n",
       "3   A872719 2023-01-16 10:20:00  2023-01-16T10:20:00.000   \n",
       "4   A870159 2023-01-15 18:52:00  2023-01-15T18:52:00.000   \n",
       "\n",
       "             date_of_birth outcome_type outcome_subtype animal_type  \\\n",
       "0  2022-01-16T00:00:00.000   Euthanasia       Suffering       Other   \n",
       "1  2022-12-03T00:00:00.000     Adoption             NaN       Other   \n",
       "2  2022-01-03T00:00:00.000     Adoption             NaN       Other   \n",
       "3  2013-01-14T00:00:00.000   Euthanasia       Suffering         Cat   \n",
       "4  2021-06-01T00:00:00.000     Adoption             NaN         Dog   \n",
       "\n",
       "  sex_upon_outcome age_upon_outcome                   breed        color  \\\n",
       "0          Unknown             NULL                 Raccoon        Brown   \n",
       "1          Unknown          1 month                  Lizard          Tan   \n",
       "2          Unknown           1 year                  Lizard          Tan   \n",
       "3    Intact Female             NULL      Domestic Shorthair       Tortie   \n",
       "4    Neutered Male           1 year  Labrador Retriever Mix  Black/White   \n",
       "\n",
       "     name new_age1 new_sex1  \n",
       "0     NaN     NULL  Unknown  \n",
       "1     NaN  1 month  Unknown  \n",
       "2     NaN  1 years  Unknown  \n",
       "3     NaN     NULL   Female  \n",
       "4  *Tooni  1 years     Male  "
      ]
     },
     "execution_count": 23,
     "metadata": {},
     "output_type": "execute_result"
    }
   ],
   "source": [
    "# `animals` DataFrame is left untouched\n",
    "animals.head()"
   ]
  },
  {
   "cell_type": "code",
   "execution_count": 24,
   "metadata": {
    "hidden": true
   },
   "outputs": [
    {
     "data": {
      "text/html": [
       "<div>\n",
       "<style scoped>\n",
       "    .dataframe tbody tr th:only-of-type {\n",
       "        vertical-align: middle;\n",
       "    }\n",
       "\n",
       "    .dataframe tbody tr th {\n",
       "        vertical-align: top;\n",
       "    }\n",
       "\n",
       "    .dataframe thead th {\n",
       "        text-align: right;\n",
       "    }\n",
       "</style>\n",
       "<table border=\"1\" class=\"dataframe\">\n",
       "  <thead>\n",
       "    <tr style=\"text-align: right;\">\n",
       "      <th></th>\n",
       "      <th>name</th>\n",
       "    </tr>\n",
       "  </thead>\n",
       "  <tbody>\n",
       "    <tr>\n",
       "      <th>0</th>\n",
       "      <td>UNKNOWN</td>\n",
       "    </tr>\n",
       "    <tr>\n",
       "      <th>1</th>\n",
       "      <td>UNKNOWN</td>\n",
       "    </tr>\n",
       "    <tr>\n",
       "      <th>2</th>\n",
       "      <td>UNKNOWN</td>\n",
       "    </tr>\n",
       "    <tr>\n",
       "      <th>3</th>\n",
       "      <td>UNKNOWN</td>\n",
       "    </tr>\n",
       "    <tr>\n",
       "      <th>4</th>\n",
       "      <td>*Tooni</td>\n",
       "    </tr>\n",
       "  </tbody>\n",
       "</table>\n",
       "</div>"
      ],
      "text/plain": [
       "      name\n",
       "0  UNKNOWN\n",
       "1  UNKNOWN\n",
       "2  UNKNOWN\n",
       "3  UNKNOWN\n",
       "4   *Tooni"
      ]
     },
     "execution_count": 24,
     "metadata": {},
     "output_type": "execute_result"
    }
   ],
   "source": [
    "# Alternative way to fill missing values by specifying column(s) first\n",
    "animals_only_names = animals[['name']].fillna(value='UNKNOWN')\n",
    "animals_only_names.head()"
   ]
  },
  {
   "cell_type": "code",
   "execution_count": 25,
   "metadata": {
    "hidden": true
   },
   "outputs": [
    {
     "data": {
      "text/html": [
       "<div>\n",
       "<style scoped>\n",
       "    .dataframe tbody tr th:only-of-type {\n",
       "        vertical-align: middle;\n",
       "    }\n",
       "\n",
       "    .dataframe tbody tr th {\n",
       "        vertical-align: top;\n",
       "    }\n",
       "\n",
       "    .dataframe thead th {\n",
       "        text-align: right;\n",
       "    }\n",
       "</style>\n",
       "<table border=\"1\" class=\"dataframe\">\n",
       "  <thead>\n",
       "    <tr style=\"text-align: right;\">\n",
       "      <th></th>\n",
       "      <th>animal_id</th>\n",
       "      <th>datetime</th>\n",
       "      <th>monthyear</th>\n",
       "      <th>date_of_birth</th>\n",
       "      <th>outcome_type</th>\n",
       "      <th>outcome_subtype</th>\n",
       "      <th>animal_type</th>\n",
       "      <th>sex_upon_outcome</th>\n",
       "      <th>age_upon_outcome</th>\n",
       "      <th>breed</th>\n",
       "      <th>color</th>\n",
       "      <th>name</th>\n",
       "      <th>new_age1</th>\n",
       "      <th>new_sex1</th>\n",
       "    </tr>\n",
       "  </thead>\n",
       "  <tbody>\n",
       "    <tr>\n",
       "      <th>0</th>\n",
       "      <td>A872832</td>\n",
       "      <td>2023-01-16 17:01:00</td>\n",
       "      <td>2023-01-16T17:01:00.000</td>\n",
       "      <td>2022-01-16T00:00:00.000</td>\n",
       "      <td>Euthanasia</td>\n",
       "      <td>Suffering</td>\n",
       "      <td>Other</td>\n",
       "      <td>Unknown</td>\n",
       "      <td>NULL</td>\n",
       "      <td>Raccoon</td>\n",
       "      <td>Brown</td>\n",
       "      <td>UNKNOWN</td>\n",
       "      <td>NULL</td>\n",
       "      <td>Unknown</td>\n",
       "    </tr>\n",
       "    <tr>\n",
       "      <th>1</th>\n",
       "      <td>A872077</td>\n",
       "      <td>2023-01-16 10:32:00</td>\n",
       "      <td>2023-01-16T10:32:00.000</td>\n",
       "      <td>2022-12-03T00:00:00.000</td>\n",
       "      <td>Adoption</td>\n",
       "      <td>NaN</td>\n",
       "      <td>Other</td>\n",
       "      <td>Unknown</td>\n",
       "      <td>1 month</td>\n",
       "      <td>Lizard</td>\n",
       "      <td>Tan</td>\n",
       "      <td>UNKNOWN</td>\n",
       "      <td>1 month</td>\n",
       "      <td>Unknown</td>\n",
       "    </tr>\n",
       "    <tr>\n",
       "      <th>2</th>\n",
       "      <td>A872076</td>\n",
       "      <td>2023-01-16 10:31:00</td>\n",
       "      <td>2023-01-16T10:31:00.000</td>\n",
       "      <td>2022-01-03T00:00:00.000</td>\n",
       "      <td>Adoption</td>\n",
       "      <td>NaN</td>\n",
       "      <td>Other</td>\n",
       "      <td>Unknown</td>\n",
       "      <td>1 year</td>\n",
       "      <td>Lizard</td>\n",
       "      <td>Tan</td>\n",
       "      <td>UNKNOWN</td>\n",
       "      <td>1 years</td>\n",
       "      <td>Unknown</td>\n",
       "    </tr>\n",
       "    <tr>\n",
       "      <th>3</th>\n",
       "      <td>A872719</td>\n",
       "      <td>2023-01-16 10:20:00</td>\n",
       "      <td>2023-01-16T10:20:00.000</td>\n",
       "      <td>2013-01-14T00:00:00.000</td>\n",
       "      <td>Euthanasia</td>\n",
       "      <td>Suffering</td>\n",
       "      <td>Cat</td>\n",
       "      <td>Intact Female</td>\n",
       "      <td>NULL</td>\n",
       "      <td>Domestic Shorthair</td>\n",
       "      <td>Tortie</td>\n",
       "      <td>UNKNOWN</td>\n",
       "      <td>NULL</td>\n",
       "      <td>Female</td>\n",
       "    </tr>\n",
       "    <tr>\n",
       "      <th>4</th>\n",
       "      <td>A870159</td>\n",
       "      <td>2023-01-15 18:52:00</td>\n",
       "      <td>2023-01-15T18:52:00.000</td>\n",
       "      <td>2021-06-01T00:00:00.000</td>\n",
       "      <td>Adoption</td>\n",
       "      <td>NaN</td>\n",
       "      <td>Dog</td>\n",
       "      <td>Neutered Male</td>\n",
       "      <td>1 year</td>\n",
       "      <td>Labrador Retriever Mix</td>\n",
       "      <td>Black/White</td>\n",
       "      <td>*Tooni</td>\n",
       "      <td>1 years</td>\n",
       "      <td>Male</td>\n",
       "    </tr>\n",
       "  </tbody>\n",
       "</table>\n",
       "</div>"
      ],
      "text/plain": [
       "  animal_id            datetime                monthyear  \\\n",
       "0   A872832 2023-01-16 17:01:00  2023-01-16T17:01:00.000   \n",
       "1   A872077 2023-01-16 10:32:00  2023-01-16T10:32:00.000   \n",
       "2   A872076 2023-01-16 10:31:00  2023-01-16T10:31:00.000   \n",
       "3   A872719 2023-01-16 10:20:00  2023-01-16T10:20:00.000   \n",
       "4   A870159 2023-01-15 18:52:00  2023-01-15T18:52:00.000   \n",
       "\n",
       "             date_of_birth outcome_type outcome_subtype animal_type  \\\n",
       "0  2022-01-16T00:00:00.000   Euthanasia       Suffering       Other   \n",
       "1  2022-12-03T00:00:00.000     Adoption             NaN       Other   \n",
       "2  2022-01-03T00:00:00.000     Adoption             NaN       Other   \n",
       "3  2013-01-14T00:00:00.000   Euthanasia       Suffering         Cat   \n",
       "4  2021-06-01T00:00:00.000     Adoption             NaN         Dog   \n",
       "\n",
       "  sex_upon_outcome age_upon_outcome                   breed        color  \\\n",
       "0          Unknown             NULL                 Raccoon        Brown   \n",
       "1          Unknown          1 month                  Lizard          Tan   \n",
       "2          Unknown           1 year                  Lizard          Tan   \n",
       "3    Intact Female             NULL      Domestic Shorthair       Tortie   \n",
       "4    Neutered Male           1 year  Labrador Retriever Mix  Black/White   \n",
       "\n",
       "      name new_age1 new_sex1  \n",
       "0  UNKNOWN     NULL  Unknown  \n",
       "1  UNKNOWN  1 month  Unknown  \n",
       "2  UNKNOWN  1 years  Unknown  \n",
       "3  UNKNOWN     NULL   Female  \n",
       "4   *Tooni  1 years     Male  "
      ]
     },
     "execution_count": 25,
     "metadata": {},
     "output_type": "execute_result"
    }
   ],
   "source": [
    "# To keep changes in DataFrame, overwrite the column\n",
    "animals_clean[['name']] = animals_only_names\n",
    "animals_clean.head()"
   ]
  },
  {
   "cell_type": "markdown",
   "metadata": {
    "heading_collapsed": true,
    "hidden": true
   },
   "source": [
    "## Fill with a Reasonable Value"
   ]
  },
  {
   "cell_type": "markdown",
   "metadata": {
    "hidden": true
   },
   "source": [
    "Other times we don't know what the missing value was but we might have a reasonable guess. This allows us to still use the data point (row) in our analysis."
   ]
  },
  {
   "cell_type": "markdown",
   "metadata": {
    "hidden": true
   },
   "source": [
    "> Beware that filling in missing values can lead to you drawing incorrect conclusions. If most of the data from a column are missing, it's going to appear that the value you filled it in with is more common that it actually was!"
   ]
  },
  {
   "cell_type": "markdown",
   "metadata": {
    "hidden": true
   },
   "source": [
    "A lot of the time we'll use the _mean_ or _median_ for numerical values. Sometimes values like $0$ make sense since it might make sense in the context of how the data was collected.\n",
    "\n",
    "With categorical values, you might choose to fill the missing values with the most common value (the _mode_)."
   ]
  },
  {
   "cell_type": "markdown",
   "metadata": {
    "hidden": true
   },
   "source": [
    "> Similar to the previous subsection, we can use the `fillna()` method after specifying the value to fill"
   ]
  },
  {
   "cell_type": "code",
   "execution_count": 26,
   "metadata": {
    "hidden": true
   },
   "outputs": [
    {
     "data": {
      "text/plain": [
       "Foster                 178\n",
       "Partner                177\n",
       "Snr                     17\n",
       "Rabies Risk             14\n",
       "Suffering               13\n",
       "In Kennel                7\n",
       "Field                    6\n",
       "Aggressive               3\n",
       "Medical                  2\n",
       "Court/Investigation      1\n",
       "In Foster                1\n",
       "Name: outcome_subtype, dtype: int64"
      ]
     },
     "execution_count": 26,
     "metadata": {},
     "output_type": "execute_result"
    }
   ],
   "source": [
    "## Let's find the most common value for `outcome_subtype`\n",
    "outcome_subtype_counts = animals['outcome_subtype'].value_counts()\n",
    "outcome_subtype_counts"
   ]
  },
  {
   "cell_type": "code",
   "execution_count": 48,
   "metadata": {
    "hidden": true
   },
   "outputs": [
    {
     "name": "stdout",
     "output_type": "stream",
     "text": [
      "Index(['Foster', 'Partner', 'Snr', 'Rabies Risk', 'Suffering', 'In Kennel',\n",
      "       'Field', 'Aggressive', 'Medical', 'Court/Investigation', 'In Foster'],\n",
      "      dtype='object')\n"
     ]
    },
    {
     "data": {
      "text/plain": [
       "'Foster'"
      ]
     },
     "execution_count": 48,
     "metadata": {},
     "output_type": "execute_result"
    }
   ],
   "source": [
    "# This gets us just the values in order of most frequent to least frequent\n",
    "outcome_subtype_ordered = outcome_subtype_counts.index\n",
    "print(outcome_subtype_ordered)\n",
    "\n",
    "# Get the first one\n",
    "most_common_outcome_subtype = outcome_subtype_ordered[0]\n",
    "most_common_outcome_subtype\n",
    " \"\"\"index here is like key in dictionary. But here is INDEX***Mine\"\"\""
   ]
  },
  {
   "cell_type": "code",
   "execution_count": 52,
   "metadata": {
    "hidden": true
   },
   "outputs": [
    {
     "data": {
      "text/plain": [
       "'Foster'"
      ]
     },
     "execution_count": 52,
     "metadata": {},
     "output_type": "execute_result"
    }
   ],
   "source": [
    "# Using the built-in mode() method\n",
    "# Note this is Series so we have to get the first element (which is the value)\n",
    "most_common_outcome_subtype = animals['outcome_subtype'].mode()[0]\n",
    "most_common_outcome_subtype\n"
   ]
  },
  {
   "cell_type": "code",
   "execution_count": 29,
   "metadata": {
    "hidden": true,
    "scrolled": true
   },
   "outputs": [
    {
     "data": {
      "text/html": [
       "<div>\n",
       "<style scoped>\n",
       "    .dataframe tbody tr th:only-of-type {\n",
       "        vertical-align: middle;\n",
       "    }\n",
       "\n",
       "    .dataframe tbody tr th {\n",
       "        vertical-align: top;\n",
       "    }\n",
       "\n",
       "    .dataframe thead th {\n",
       "        text-align: right;\n",
       "    }\n",
       "</style>\n",
       "<table border=\"1\" class=\"dataframe\">\n",
       "  <thead>\n",
       "    <tr style=\"text-align: right;\">\n",
       "      <th></th>\n",
       "      <th>animal_id</th>\n",
       "      <th>datetime</th>\n",
       "      <th>monthyear</th>\n",
       "      <th>date_of_birth</th>\n",
       "      <th>outcome_type</th>\n",
       "      <th>outcome_subtype</th>\n",
       "      <th>animal_type</th>\n",
       "      <th>sex_upon_outcome</th>\n",
       "      <th>age_upon_outcome</th>\n",
       "      <th>breed</th>\n",
       "      <th>color</th>\n",
       "      <th>name</th>\n",
       "      <th>new_age1</th>\n",
       "      <th>new_sex1</th>\n",
       "    </tr>\n",
       "  </thead>\n",
       "  <tbody>\n",
       "    <tr>\n",
       "      <th>0</th>\n",
       "      <td>A872832</td>\n",
       "      <td>2023-01-16 17:01:00</td>\n",
       "      <td>2023-01-16T17:01:00.000</td>\n",
       "      <td>2022-01-16T00:00:00.000</td>\n",
       "      <td>Euthanasia</td>\n",
       "      <td>Suffering</td>\n",
       "      <td>Other</td>\n",
       "      <td>Unknown</td>\n",
       "      <td>NULL</td>\n",
       "      <td>Raccoon</td>\n",
       "      <td>Brown</td>\n",
       "      <td>UNKNOWN</td>\n",
       "      <td>NULL</td>\n",
       "      <td>Unknown</td>\n",
       "    </tr>\n",
       "    <tr>\n",
       "      <th>1</th>\n",
       "      <td>A872077</td>\n",
       "      <td>2023-01-16 10:32:00</td>\n",
       "      <td>2023-01-16T10:32:00.000</td>\n",
       "      <td>2022-12-03T00:00:00.000</td>\n",
       "      <td>Adoption</td>\n",
       "      <td>Foster</td>\n",
       "      <td>Other</td>\n",
       "      <td>Unknown</td>\n",
       "      <td>1 month</td>\n",
       "      <td>Lizard</td>\n",
       "      <td>Tan</td>\n",
       "      <td>UNKNOWN</td>\n",
       "      <td>1 month</td>\n",
       "      <td>Unknown</td>\n",
       "    </tr>\n",
       "    <tr>\n",
       "      <th>2</th>\n",
       "      <td>A872076</td>\n",
       "      <td>2023-01-16 10:31:00</td>\n",
       "      <td>2023-01-16T10:31:00.000</td>\n",
       "      <td>2022-01-03T00:00:00.000</td>\n",
       "      <td>Adoption</td>\n",
       "      <td>Foster</td>\n",
       "      <td>Other</td>\n",
       "      <td>Unknown</td>\n",
       "      <td>1 year</td>\n",
       "      <td>Lizard</td>\n",
       "      <td>Tan</td>\n",
       "      <td>UNKNOWN</td>\n",
       "      <td>1 years</td>\n",
       "      <td>Unknown</td>\n",
       "    </tr>\n",
       "    <tr>\n",
       "      <th>3</th>\n",
       "      <td>A872719</td>\n",
       "      <td>2023-01-16 10:20:00</td>\n",
       "      <td>2023-01-16T10:20:00.000</td>\n",
       "      <td>2013-01-14T00:00:00.000</td>\n",
       "      <td>Euthanasia</td>\n",
       "      <td>Suffering</td>\n",
       "      <td>Cat</td>\n",
       "      <td>Intact Female</td>\n",
       "      <td>NULL</td>\n",
       "      <td>Domestic Shorthair</td>\n",
       "      <td>Tortie</td>\n",
       "      <td>UNKNOWN</td>\n",
       "      <td>NULL</td>\n",
       "      <td>Female</td>\n",
       "    </tr>\n",
       "    <tr>\n",
       "      <th>4</th>\n",
       "      <td>A870159</td>\n",
       "      <td>2023-01-15 18:52:00</td>\n",
       "      <td>2023-01-15T18:52:00.000</td>\n",
       "      <td>2021-06-01T00:00:00.000</td>\n",
       "      <td>Adoption</td>\n",
       "      <td>Foster</td>\n",
       "      <td>Dog</td>\n",
       "      <td>Neutered Male</td>\n",
       "      <td>1 year</td>\n",
       "      <td>Labrador Retriever Mix</td>\n",
       "      <td>Black/White</td>\n",
       "      <td>*Tooni</td>\n",
       "      <td>1 years</td>\n",
       "      <td>Male</td>\n",
       "    </tr>\n",
       "  </tbody>\n",
       "</table>\n",
       "</div>"
      ],
      "text/plain": [
       "  animal_id            datetime                monthyear  \\\n",
       "0   A872832 2023-01-16 17:01:00  2023-01-16T17:01:00.000   \n",
       "1   A872077 2023-01-16 10:32:00  2023-01-16T10:32:00.000   \n",
       "2   A872076 2023-01-16 10:31:00  2023-01-16T10:31:00.000   \n",
       "3   A872719 2023-01-16 10:20:00  2023-01-16T10:20:00.000   \n",
       "4   A870159 2023-01-15 18:52:00  2023-01-15T18:52:00.000   \n",
       "\n",
       "             date_of_birth outcome_type outcome_subtype animal_type  \\\n",
       "0  2022-01-16T00:00:00.000   Euthanasia       Suffering       Other   \n",
       "1  2022-12-03T00:00:00.000     Adoption          Foster       Other   \n",
       "2  2022-01-03T00:00:00.000     Adoption          Foster       Other   \n",
       "3  2013-01-14T00:00:00.000   Euthanasia       Suffering         Cat   \n",
       "4  2021-06-01T00:00:00.000     Adoption          Foster         Dog   \n",
       "\n",
       "  sex_upon_outcome age_upon_outcome                   breed        color  \\\n",
       "0          Unknown             NULL                 Raccoon        Brown   \n",
       "1          Unknown          1 month                  Lizard          Tan   \n",
       "2          Unknown           1 year                  Lizard          Tan   \n",
       "3    Intact Female             NULL      Domestic Shorthair       Tortie   \n",
       "4    Neutered Male           1 year  Labrador Retriever Mix  Black/White   \n",
       "\n",
       "      name new_age1 new_sex1  \n",
       "0  UNKNOWN     NULL  Unknown  \n",
       "1  UNKNOWN  1 month  Unknown  \n",
       "2  UNKNOWN  1 years  Unknown  \n",
       "3  UNKNOWN     NULL   Female  \n",
       "4   *Tooni  1 years     Male  "
      ]
     },
     "execution_count": 29,
     "metadata": {},
     "output_type": "execute_result"
    }
   ],
   "source": [
    "# Similar to the previous subsection, we can use fillna() and update the DF\n",
    "animals_clean['outcome_subtype'] = animals['outcome_subtype'].fillna(most_common_outcome_subtype)\n",
    "animals_clean.head()"
   ]
  },
  {
   "cell_type": "markdown",
   "metadata": {
    "heading_collapsed": true,
    "hidden": true
   },
   "source": [
    "## Specify That the Data Were Missing"
   ]
  },
  {
   "cell_type": "markdown",
   "metadata": {
    "hidden": true
   },
   "source": [
    "Even after filling in missing values, it might make sense to specify that there were missing data. You can document that the data was missing by creating a new column that represents whether the data was originally missing or not."
   ]
  },
  {
   "cell_type": "markdown",
   "metadata": {
    "hidden": true
   },
   "source": [
    "This can be helpful when you suspect that the fact the data was missing could be important for an analysis."
   ]
  },
  {
   "cell_type": "markdown",
   "metadata": {
    "hidden": true
   },
   "source": [
    "> Since we already removed some missing values, we're going to reference back to the original `animals` DataFrame. (Good thing we didn't overwrite it! 😉)"
   ]
  },
  {
   "cell_type": "code",
   "execution_count": 30,
   "metadata": {
    "hidden": true
   },
   "outputs": [
    {
     "data": {
      "text/plain": [
       "0      False\n",
       "1       True\n",
       "2       True\n",
       "3      False\n",
       "4       True\n",
       "       ...  \n",
       "995     True\n",
       "996     True\n",
       "997    False\n",
       "998     True\n",
       "999    False\n",
       "Name: outcome_subtype, Length: 1000, dtype: bool"
      ]
     },
     "execution_count": 30,
     "metadata": {},
     "output_type": "execute_result"
    }
   ],
   "source": [
    "# Let's specify which values were originally missing in \"outcome_subtype\"\n",
    "missing_outcome_subtypes = animals['outcome_subtype'].isna()\n",
    "missing_outcome_subtypes"
   ]
  },
  {
   "cell_type": "code",
   "execution_count": 31,
   "metadata": {
    "hidden": true
   },
   "outputs": [
    {
     "data": {
      "text/html": [
       "<div>\n",
       "<style scoped>\n",
       "    .dataframe tbody tr th:only-of-type {\n",
       "        vertical-align: middle;\n",
       "    }\n",
       "\n",
       "    .dataframe tbody tr th {\n",
       "        vertical-align: top;\n",
       "    }\n",
       "\n",
       "    .dataframe thead th {\n",
       "        text-align: right;\n",
       "    }\n",
       "</style>\n",
       "<table border=\"1\" class=\"dataframe\">\n",
       "  <thead>\n",
       "    <tr style=\"text-align: right;\">\n",
       "      <th></th>\n",
       "      <th>animal_id</th>\n",
       "      <th>datetime</th>\n",
       "      <th>monthyear</th>\n",
       "      <th>date_of_birth</th>\n",
       "      <th>outcome_type</th>\n",
       "      <th>outcome_subtype</th>\n",
       "      <th>animal_type</th>\n",
       "      <th>sex_upon_outcome</th>\n",
       "      <th>age_upon_outcome</th>\n",
       "      <th>breed</th>\n",
       "      <th>color</th>\n",
       "      <th>name</th>\n",
       "      <th>new_age1</th>\n",
       "      <th>new_sex1</th>\n",
       "      <th>outcome_subtype_missing</th>\n",
       "    </tr>\n",
       "  </thead>\n",
       "  <tbody>\n",
       "    <tr>\n",
       "      <th>0</th>\n",
       "      <td>A872832</td>\n",
       "      <td>2023-01-16 17:01:00</td>\n",
       "      <td>2023-01-16T17:01:00.000</td>\n",
       "      <td>2022-01-16T00:00:00.000</td>\n",
       "      <td>Euthanasia</td>\n",
       "      <td>Suffering</td>\n",
       "      <td>Other</td>\n",
       "      <td>Unknown</td>\n",
       "      <td>NULL</td>\n",
       "      <td>Raccoon</td>\n",
       "      <td>Brown</td>\n",
       "      <td>UNKNOWN</td>\n",
       "      <td>NULL</td>\n",
       "      <td>Unknown</td>\n",
       "      <td>False</td>\n",
       "    </tr>\n",
       "    <tr>\n",
       "      <th>1</th>\n",
       "      <td>A872077</td>\n",
       "      <td>2023-01-16 10:32:00</td>\n",
       "      <td>2023-01-16T10:32:00.000</td>\n",
       "      <td>2022-12-03T00:00:00.000</td>\n",
       "      <td>Adoption</td>\n",
       "      <td>Foster</td>\n",
       "      <td>Other</td>\n",
       "      <td>Unknown</td>\n",
       "      <td>1 month</td>\n",
       "      <td>Lizard</td>\n",
       "      <td>Tan</td>\n",
       "      <td>UNKNOWN</td>\n",
       "      <td>1 month</td>\n",
       "      <td>Unknown</td>\n",
       "      <td>True</td>\n",
       "    </tr>\n",
       "    <tr>\n",
       "      <th>2</th>\n",
       "      <td>A872076</td>\n",
       "      <td>2023-01-16 10:31:00</td>\n",
       "      <td>2023-01-16T10:31:00.000</td>\n",
       "      <td>2022-01-03T00:00:00.000</td>\n",
       "      <td>Adoption</td>\n",
       "      <td>Foster</td>\n",
       "      <td>Other</td>\n",
       "      <td>Unknown</td>\n",
       "      <td>1 year</td>\n",
       "      <td>Lizard</td>\n",
       "      <td>Tan</td>\n",
       "      <td>UNKNOWN</td>\n",
       "      <td>1 years</td>\n",
       "      <td>Unknown</td>\n",
       "      <td>True</td>\n",
       "    </tr>\n",
       "    <tr>\n",
       "      <th>3</th>\n",
       "      <td>A872719</td>\n",
       "      <td>2023-01-16 10:20:00</td>\n",
       "      <td>2023-01-16T10:20:00.000</td>\n",
       "      <td>2013-01-14T00:00:00.000</td>\n",
       "      <td>Euthanasia</td>\n",
       "      <td>Suffering</td>\n",
       "      <td>Cat</td>\n",
       "      <td>Intact Female</td>\n",
       "      <td>NULL</td>\n",
       "      <td>Domestic Shorthair</td>\n",
       "      <td>Tortie</td>\n",
       "      <td>UNKNOWN</td>\n",
       "      <td>NULL</td>\n",
       "      <td>Female</td>\n",
       "      <td>False</td>\n",
       "    </tr>\n",
       "    <tr>\n",
       "      <th>4</th>\n",
       "      <td>A870159</td>\n",
       "      <td>2023-01-15 18:52:00</td>\n",
       "      <td>2023-01-15T18:52:00.000</td>\n",
       "      <td>2021-06-01T00:00:00.000</td>\n",
       "      <td>Adoption</td>\n",
       "      <td>Foster</td>\n",
       "      <td>Dog</td>\n",
       "      <td>Neutered Male</td>\n",
       "      <td>1 year</td>\n",
       "      <td>Labrador Retriever Mix</td>\n",
       "      <td>Black/White</td>\n",
       "      <td>*Tooni</td>\n",
       "      <td>1 years</td>\n",
       "      <td>Male</td>\n",
       "      <td>True</td>\n",
       "    </tr>\n",
       "  </tbody>\n",
       "</table>\n",
       "</div>"
      ],
      "text/plain": [
       "  animal_id            datetime                monthyear  \\\n",
       "0   A872832 2023-01-16 17:01:00  2023-01-16T17:01:00.000   \n",
       "1   A872077 2023-01-16 10:32:00  2023-01-16T10:32:00.000   \n",
       "2   A872076 2023-01-16 10:31:00  2023-01-16T10:31:00.000   \n",
       "3   A872719 2023-01-16 10:20:00  2023-01-16T10:20:00.000   \n",
       "4   A870159 2023-01-15 18:52:00  2023-01-15T18:52:00.000   \n",
       "\n",
       "             date_of_birth outcome_type outcome_subtype animal_type  \\\n",
       "0  2022-01-16T00:00:00.000   Euthanasia       Suffering       Other   \n",
       "1  2022-12-03T00:00:00.000     Adoption          Foster       Other   \n",
       "2  2022-01-03T00:00:00.000     Adoption          Foster       Other   \n",
       "3  2013-01-14T00:00:00.000   Euthanasia       Suffering         Cat   \n",
       "4  2021-06-01T00:00:00.000     Adoption          Foster         Dog   \n",
       "\n",
       "  sex_upon_outcome age_upon_outcome                   breed        color  \\\n",
       "0          Unknown             NULL                 Raccoon        Brown   \n",
       "1          Unknown          1 month                  Lizard          Tan   \n",
       "2          Unknown           1 year                  Lizard          Tan   \n",
       "3    Intact Female             NULL      Domestic Shorthair       Tortie   \n",
       "4    Neutered Male           1 year  Labrador Retriever Mix  Black/White   \n",
       "\n",
       "      name new_age1 new_sex1  outcome_subtype_missing  \n",
       "0  UNKNOWN     NULL  Unknown                    False  \n",
       "1  UNKNOWN  1 month  Unknown                     True  \n",
       "2  UNKNOWN  1 years  Unknown                     True  \n",
       "3  UNKNOWN     NULL   Female                    False  \n",
       "4   *Tooni  1 years     Male                     True  "
      ]
     },
     "execution_count": 31,
     "metadata": {},
     "output_type": "execute_result"
    }
   ],
   "source": [
    "# Create new column for missing outcome subtypes matched w/ replaced values\n",
    "animals_clean['outcome_subtype_missing'] = missing_outcome_subtypes\n",
    "animals_clean.head()"
   ]
  },
  {
   "cell_type": "markdown",
   "metadata": {
    "heading_collapsed": true,
    "hidden": true
   },
   "source": [
    "## Drop Missing Data"
   ]
  },
  {
   "cell_type": "markdown",
   "metadata": {
    "hidden": true
   },
   "source": [
    "You should try to keep as much relevant data as possible, but sometimes the other methods don't make as much sense and it's better to remove or **drop** the missing data."
   ]
  },
  {
   "cell_type": "markdown",
   "metadata": {
    "hidden": true
   },
   "source": [
    "We typically drop missing data if very little data would be lost and/or trying to fill in the values wouldn't make sense for our use case. For example, if you're trying to predict the outcome based on the other features/columns it might not make sense to fill in those missing values with something you can't confirm."
   ]
  },
  {
   "cell_type": "markdown",
   "metadata": {
    "hidden": true
   },
   "source": [
    "> We noticed that `outcome_type` had only two missing values. It might not be worth trying to handle those two missing values. We can pretend that the `outcome_type` was an important feature and without it the rest of the row's data is of little importance to us.\n",
    ">\n",
    "> So we'll decide to drop the row if a value from `outcome_type` is missing. We'll use Pandas' [`dropna()` method](https://pandas.pydata.org/pandas-docs/stable/reference/api/pandas.DataFrame.dropna.html)."
   ]
  },
  {
   "cell_type": "code",
   "execution_count": 32,
   "metadata": {
    "hidden": true
   },
   "outputs": [
    {
     "data": {
      "text/html": [
       "<div>\n",
       "<style scoped>\n",
       "    .dataframe tbody tr th:only-of-type {\n",
       "        vertical-align: middle;\n",
       "    }\n",
       "\n",
       "    .dataframe tbody tr th {\n",
       "        vertical-align: top;\n",
       "    }\n",
       "\n",
       "    .dataframe thead th {\n",
       "        text-align: right;\n",
       "    }\n",
       "</style>\n",
       "<table border=\"1\" class=\"dataframe\">\n",
       "  <thead>\n",
       "    <tr style=\"text-align: right;\">\n",
       "      <th></th>\n",
       "      <th>animal_id</th>\n",
       "      <th>datetime</th>\n",
       "      <th>monthyear</th>\n",
       "      <th>date_of_birth</th>\n",
       "      <th>outcome_type</th>\n",
       "      <th>outcome_subtype</th>\n",
       "      <th>animal_type</th>\n",
       "      <th>sex_upon_outcome</th>\n",
       "      <th>age_upon_outcome</th>\n",
       "      <th>breed</th>\n",
       "      <th>color</th>\n",
       "      <th>name</th>\n",
       "      <th>new_age1</th>\n",
       "      <th>new_sex1</th>\n",
       "      <th>outcome_subtype_missing</th>\n",
       "    </tr>\n",
       "  </thead>\n",
       "  <tbody>\n",
       "    <tr>\n",
       "      <th>0</th>\n",
       "      <td>A872832</td>\n",
       "      <td>2023-01-16 17:01:00</td>\n",
       "      <td>2023-01-16T17:01:00.000</td>\n",
       "      <td>2022-01-16T00:00:00.000</td>\n",
       "      <td>Euthanasia</td>\n",
       "      <td>Suffering</td>\n",
       "      <td>Other</td>\n",
       "      <td>Unknown</td>\n",
       "      <td>NULL</td>\n",
       "      <td>Raccoon</td>\n",
       "      <td>Brown</td>\n",
       "      <td>UNKNOWN</td>\n",
       "      <td>NULL</td>\n",
       "      <td>Unknown</td>\n",
       "      <td>False</td>\n",
       "    </tr>\n",
       "    <tr>\n",
       "      <th>1</th>\n",
       "      <td>A872077</td>\n",
       "      <td>2023-01-16 10:32:00</td>\n",
       "      <td>2023-01-16T10:32:00.000</td>\n",
       "      <td>2022-12-03T00:00:00.000</td>\n",
       "      <td>Adoption</td>\n",
       "      <td>Foster</td>\n",
       "      <td>Other</td>\n",
       "      <td>Unknown</td>\n",
       "      <td>1 month</td>\n",
       "      <td>Lizard</td>\n",
       "      <td>Tan</td>\n",
       "      <td>UNKNOWN</td>\n",
       "      <td>1 month</td>\n",
       "      <td>Unknown</td>\n",
       "      <td>True</td>\n",
       "    </tr>\n",
       "    <tr>\n",
       "      <th>2</th>\n",
       "      <td>A872076</td>\n",
       "      <td>2023-01-16 10:31:00</td>\n",
       "      <td>2023-01-16T10:31:00.000</td>\n",
       "      <td>2022-01-03T00:00:00.000</td>\n",
       "      <td>Adoption</td>\n",
       "      <td>Foster</td>\n",
       "      <td>Other</td>\n",
       "      <td>Unknown</td>\n",
       "      <td>1 year</td>\n",
       "      <td>Lizard</td>\n",
       "      <td>Tan</td>\n",
       "      <td>UNKNOWN</td>\n",
       "      <td>1 years</td>\n",
       "      <td>Unknown</td>\n",
       "      <td>True</td>\n",
       "    </tr>\n",
       "    <tr>\n",
       "      <th>3</th>\n",
       "      <td>A872719</td>\n",
       "      <td>2023-01-16 10:20:00</td>\n",
       "      <td>2023-01-16T10:20:00.000</td>\n",
       "      <td>2013-01-14T00:00:00.000</td>\n",
       "      <td>Euthanasia</td>\n",
       "      <td>Suffering</td>\n",
       "      <td>Cat</td>\n",
       "      <td>Intact Female</td>\n",
       "      <td>NULL</td>\n",
       "      <td>Domestic Shorthair</td>\n",
       "      <td>Tortie</td>\n",
       "      <td>UNKNOWN</td>\n",
       "      <td>NULL</td>\n",
       "      <td>Female</td>\n",
       "      <td>False</td>\n",
       "    </tr>\n",
       "    <tr>\n",
       "      <th>4</th>\n",
       "      <td>A870159</td>\n",
       "      <td>2023-01-15 18:52:00</td>\n",
       "      <td>2023-01-15T18:52:00.000</td>\n",
       "      <td>2021-06-01T00:00:00.000</td>\n",
       "      <td>Adoption</td>\n",
       "      <td>Foster</td>\n",
       "      <td>Dog</td>\n",
       "      <td>Neutered Male</td>\n",
       "      <td>1 year</td>\n",
       "      <td>Labrador Retriever Mix</td>\n",
       "      <td>Black/White</td>\n",
       "      <td>*Tooni</td>\n",
       "      <td>1 years</td>\n",
       "      <td>Male</td>\n",
       "      <td>True</td>\n",
       "    </tr>\n",
       "  </tbody>\n",
       "</table>\n",
       "</div>"
      ],
      "text/plain": [
       "  animal_id            datetime                monthyear  \\\n",
       "0   A872832 2023-01-16 17:01:00  2023-01-16T17:01:00.000   \n",
       "1   A872077 2023-01-16 10:32:00  2023-01-16T10:32:00.000   \n",
       "2   A872076 2023-01-16 10:31:00  2023-01-16T10:31:00.000   \n",
       "3   A872719 2023-01-16 10:20:00  2023-01-16T10:20:00.000   \n",
       "4   A870159 2023-01-15 18:52:00  2023-01-15T18:52:00.000   \n",
       "\n",
       "             date_of_birth outcome_type outcome_subtype animal_type  \\\n",
       "0  2022-01-16T00:00:00.000   Euthanasia       Suffering       Other   \n",
       "1  2022-12-03T00:00:00.000     Adoption          Foster       Other   \n",
       "2  2022-01-03T00:00:00.000     Adoption          Foster       Other   \n",
       "3  2013-01-14T00:00:00.000   Euthanasia       Suffering         Cat   \n",
       "4  2021-06-01T00:00:00.000     Adoption          Foster         Dog   \n",
       "\n",
       "  sex_upon_outcome age_upon_outcome                   breed        color  \\\n",
       "0          Unknown             NULL                 Raccoon        Brown   \n",
       "1          Unknown          1 month                  Lizard          Tan   \n",
       "2          Unknown           1 year                  Lizard          Tan   \n",
       "3    Intact Female             NULL      Domestic Shorthair       Tortie   \n",
       "4    Neutered Male           1 year  Labrador Retriever Mix  Black/White   \n",
       "\n",
       "      name new_age1 new_sex1  outcome_subtype_missing  \n",
       "0  UNKNOWN     NULL  Unknown                    False  \n",
       "1  UNKNOWN  1 month  Unknown                     True  \n",
       "2  UNKNOWN  1 years  Unknown                     True  \n",
       "3  UNKNOWN     NULL   Female                    False  \n",
       "4   *Tooni  1 years     Male                     True  "
      ]
     },
     "execution_count": 32,
     "metadata": {},
     "output_type": "execute_result"
    }
   ],
   "source": [
    "# This will drop any row (axis=0) or column (axis=1) that has missing values\n",
    "animals_clean = animals_clean.dropna(   # Note we're overwriting animals_clean\n",
    "                                axis=0, # This is the default & will drop rows; axis=1 for cols\n",
    "                                subset=['outcome_type'] # Specific labels to consider (defaults to all)\n",
    ")\n",
    "animals_clean.head()"
   ]
  },
  {
   "cell_type": "markdown",
   "metadata": {
    "heading_collapsed": true,
    "hidden": true
   },
   "source": [
    "## Comparing Before and After"
   ]
  },
  {
   "cell_type": "markdown",
   "metadata": {
    "hidden": true
   },
   "source": [
    "We can now see all the work we did!"
   ]
  },
  {
   "cell_type": "code",
   "execution_count": 33,
   "metadata": {
    "hidden": true
   },
   "outputs": [
    {
     "name": "stdout",
     "output_type": "stream",
     "text": [
      "<class 'pandas.core.frame.DataFrame'>\n",
      "RangeIndex: 1000 entries, 0 to 999\n",
      "Data columns (total 14 columns):\n",
      " #   Column            Non-Null Count  Dtype         \n",
      "---  ------            --------------  -----         \n",
      " 0   animal_id         1000 non-null   object        \n",
      " 1   datetime          1000 non-null   datetime64[ns]\n",
      " 2   monthyear         1000 non-null   object        \n",
      " 3   date_of_birth     1000 non-null   object        \n",
      " 4   outcome_type      999 non-null    object        \n",
      " 5   outcome_subtype   419 non-null    object        \n",
      " 6   animal_type       1000 non-null   object        \n",
      " 7   sex_upon_outcome  1000 non-null   object        \n",
      " 8   age_upon_outcome  1000 non-null   object        \n",
      " 9   breed             1000 non-null   object        \n",
      " 10  color             1000 non-null   object        \n",
      " 11  name              796 non-null    object        \n",
      " 12  new_age1          1000 non-null   object        \n",
      " 13  new_sex1          1000 non-null   object        \n",
      "dtypes: datetime64[ns](1), object(13)\n",
      "memory usage: 109.5+ KB\n"
     ]
    }
   ],
   "source": [
    "# Original data\n",
    "animals.info()"
   ]
  },
  {
   "cell_type": "code",
   "execution_count": 34,
   "metadata": {
    "hidden": true
   },
   "outputs": [
    {
     "name": "stdout",
     "output_type": "stream",
     "text": [
      "<class 'pandas.core.frame.DataFrame'>\n",
      "Int64Index: 999 entries, 0 to 999\n",
      "Data columns (total 15 columns):\n",
      " #   Column                   Non-Null Count  Dtype         \n",
      "---  ------                   --------------  -----         \n",
      " 0   animal_id                999 non-null    object        \n",
      " 1   datetime                 999 non-null    datetime64[ns]\n",
      " 2   monthyear                999 non-null    object        \n",
      " 3   date_of_birth            999 non-null    object        \n",
      " 4   outcome_type             999 non-null    object        \n",
      " 5   outcome_subtype          999 non-null    object        \n",
      " 6   animal_type              999 non-null    object        \n",
      " 7   sex_upon_outcome         999 non-null    object        \n",
      " 8   age_upon_outcome         999 non-null    object        \n",
      " 9   breed                    999 non-null    object        \n",
      " 10  color                    999 non-null    object        \n",
      " 11  name                     999 non-null    object        \n",
      " 12  new_age1                 999 non-null    object        \n",
      " 13  new_sex1                 999 non-null    object        \n",
      " 14  outcome_subtype_missing  999 non-null    bool          \n",
      "dtypes: bool(1), datetime64[ns](1), object(13)\n",
      "memory usage: 118.0+ KB\n"
     ]
    }
   ],
   "source": [
    "# Missing data cleaned\n",
    "animals_clean.info()"
   ]
  },
  {
   "cell_type": "markdown",
   "metadata": {
    "heading_collapsed": true
   },
   "source": [
    "# Level Up: `.applymap()`"
   ]
  },
  {
   "cell_type": "markdown",
   "metadata": {
    "hidden": true
   },
   "source": [
    "`.applymap()` is used to apply a transformation to each element of a DataFrame."
   ]
  },
  {
   "cell_type": "code",
   "execution_count": 35,
   "metadata": {
    "hidden": true,
    "scrolled": true
   },
   "outputs": [
    {
     "data": {
      "text/html": [
       "<div>\n",
       "<style scoped>\n",
       "    .dataframe tbody tr th:only-of-type {\n",
       "        vertical-align: middle;\n",
       "    }\n",
       "\n",
       "    .dataframe tbody tr th {\n",
       "        vertical-align: top;\n",
       "    }\n",
       "\n",
       "    .dataframe thead th {\n",
       "        text-align: right;\n",
       "    }\n",
       "</style>\n",
       "<table border=\"1\" class=\"dataframe\">\n",
       "  <thead>\n",
       "    <tr style=\"text-align: right;\">\n",
       "      <th></th>\n",
       "      <th>animal_id</th>\n",
       "      <th>datetime</th>\n",
       "      <th>monthyear</th>\n",
       "      <th>date_of_birth</th>\n",
       "      <th>outcome_type</th>\n",
       "      <th>outcome_subtype</th>\n",
       "      <th>animal_type</th>\n",
       "      <th>sex_upon_outcome</th>\n",
       "      <th>age_upon_outcome</th>\n",
       "      <th>breed</th>\n",
       "      <th>color</th>\n",
       "      <th>name</th>\n",
       "      <th>new_age1</th>\n",
       "      <th>new_sex1</th>\n",
       "    </tr>\n",
       "  </thead>\n",
       "  <tbody>\n",
       "    <tr>\n",
       "      <th>0</th>\n",
       "      <td>&lt;class 'str'&gt;</td>\n",
       "      <td>&lt;class 'pandas._libs.tslibs.timestamps.Timesta...</td>\n",
       "      <td>&lt;class 'str'&gt;</td>\n",
       "      <td>&lt;class 'str'&gt;</td>\n",
       "      <td>&lt;class 'str'&gt;</td>\n",
       "      <td>&lt;class 'str'&gt;</td>\n",
       "      <td>&lt;class 'str'&gt;</td>\n",
       "      <td>&lt;class 'str'&gt;</td>\n",
       "      <td>&lt;class 'str'&gt;</td>\n",
       "      <td>&lt;class 'str'&gt;</td>\n",
       "      <td>&lt;class 'str'&gt;</td>\n",
       "      <td>&lt;class 'float'&gt;</td>\n",
       "      <td>&lt;class 'str'&gt;</td>\n",
       "      <td>&lt;class 'str'&gt;</td>\n",
       "    </tr>\n",
       "    <tr>\n",
       "      <th>1</th>\n",
       "      <td>&lt;class 'str'&gt;</td>\n",
       "      <td>&lt;class 'pandas._libs.tslibs.timestamps.Timesta...</td>\n",
       "      <td>&lt;class 'str'&gt;</td>\n",
       "      <td>&lt;class 'str'&gt;</td>\n",
       "      <td>&lt;class 'str'&gt;</td>\n",
       "      <td>&lt;class 'float'&gt;</td>\n",
       "      <td>&lt;class 'str'&gt;</td>\n",
       "      <td>&lt;class 'str'&gt;</td>\n",
       "      <td>&lt;class 'str'&gt;</td>\n",
       "      <td>&lt;class 'str'&gt;</td>\n",
       "      <td>&lt;class 'str'&gt;</td>\n",
       "      <td>&lt;class 'float'&gt;</td>\n",
       "      <td>&lt;class 'str'&gt;</td>\n",
       "      <td>&lt;class 'str'&gt;</td>\n",
       "    </tr>\n",
       "    <tr>\n",
       "      <th>2</th>\n",
       "      <td>&lt;class 'str'&gt;</td>\n",
       "      <td>&lt;class 'pandas._libs.tslibs.timestamps.Timesta...</td>\n",
       "      <td>&lt;class 'str'&gt;</td>\n",
       "      <td>&lt;class 'str'&gt;</td>\n",
       "      <td>&lt;class 'str'&gt;</td>\n",
       "      <td>&lt;class 'float'&gt;</td>\n",
       "      <td>&lt;class 'str'&gt;</td>\n",
       "      <td>&lt;class 'str'&gt;</td>\n",
       "      <td>&lt;class 'str'&gt;</td>\n",
       "      <td>&lt;class 'str'&gt;</td>\n",
       "      <td>&lt;class 'str'&gt;</td>\n",
       "      <td>&lt;class 'float'&gt;</td>\n",
       "      <td>&lt;class 'str'&gt;</td>\n",
       "      <td>&lt;class 'str'&gt;</td>\n",
       "    </tr>\n",
       "    <tr>\n",
       "      <th>3</th>\n",
       "      <td>&lt;class 'str'&gt;</td>\n",
       "      <td>&lt;class 'pandas._libs.tslibs.timestamps.Timesta...</td>\n",
       "      <td>&lt;class 'str'&gt;</td>\n",
       "      <td>&lt;class 'str'&gt;</td>\n",
       "      <td>&lt;class 'str'&gt;</td>\n",
       "      <td>&lt;class 'str'&gt;</td>\n",
       "      <td>&lt;class 'str'&gt;</td>\n",
       "      <td>&lt;class 'str'&gt;</td>\n",
       "      <td>&lt;class 'str'&gt;</td>\n",
       "      <td>&lt;class 'str'&gt;</td>\n",
       "      <td>&lt;class 'str'&gt;</td>\n",
       "      <td>&lt;class 'float'&gt;</td>\n",
       "      <td>&lt;class 'str'&gt;</td>\n",
       "      <td>&lt;class 'str'&gt;</td>\n",
       "    </tr>\n",
       "    <tr>\n",
       "      <th>4</th>\n",
       "      <td>&lt;class 'str'&gt;</td>\n",
       "      <td>&lt;class 'pandas._libs.tslibs.timestamps.Timesta...</td>\n",
       "      <td>&lt;class 'str'&gt;</td>\n",
       "      <td>&lt;class 'str'&gt;</td>\n",
       "      <td>&lt;class 'str'&gt;</td>\n",
       "      <td>&lt;class 'float'&gt;</td>\n",
       "      <td>&lt;class 'str'&gt;</td>\n",
       "      <td>&lt;class 'str'&gt;</td>\n",
       "      <td>&lt;class 'str'&gt;</td>\n",
       "      <td>&lt;class 'str'&gt;</td>\n",
       "      <td>&lt;class 'str'&gt;</td>\n",
       "      <td>&lt;class 'str'&gt;</td>\n",
       "      <td>&lt;class 'str'&gt;</td>\n",
       "      <td>&lt;class 'str'&gt;</td>\n",
       "    </tr>\n",
       "    <tr>\n",
       "      <th>...</th>\n",
       "      <td>...</td>\n",
       "      <td>...</td>\n",
       "      <td>...</td>\n",
       "      <td>...</td>\n",
       "      <td>...</td>\n",
       "      <td>...</td>\n",
       "      <td>...</td>\n",
       "      <td>...</td>\n",
       "      <td>...</td>\n",
       "      <td>...</td>\n",
       "      <td>...</td>\n",
       "      <td>...</td>\n",
       "      <td>...</td>\n",
       "      <td>...</td>\n",
       "    </tr>\n",
       "    <tr>\n",
       "      <th>995</th>\n",
       "      <td>&lt;class 'str'&gt;</td>\n",
       "      <td>&lt;class 'pandas._libs.tslibs.timestamps.Timesta...</td>\n",
       "      <td>&lt;class 'str'&gt;</td>\n",
       "      <td>&lt;class 'str'&gt;</td>\n",
       "      <td>&lt;class 'str'&gt;</td>\n",
       "      <td>&lt;class 'float'&gt;</td>\n",
       "      <td>&lt;class 'str'&gt;</td>\n",
       "      <td>&lt;class 'str'&gt;</td>\n",
       "      <td>&lt;class 'str'&gt;</td>\n",
       "      <td>&lt;class 'str'&gt;</td>\n",
       "      <td>&lt;class 'str'&gt;</td>\n",
       "      <td>&lt;class 'str'&gt;</td>\n",
       "      <td>&lt;class 'str'&gt;</td>\n",
       "      <td>&lt;class 'str'&gt;</td>\n",
       "    </tr>\n",
       "    <tr>\n",
       "      <th>996</th>\n",
       "      <td>&lt;class 'str'&gt;</td>\n",
       "      <td>&lt;class 'pandas._libs.tslibs.timestamps.Timesta...</td>\n",
       "      <td>&lt;class 'str'&gt;</td>\n",
       "      <td>&lt;class 'str'&gt;</td>\n",
       "      <td>&lt;class 'str'&gt;</td>\n",
       "      <td>&lt;class 'float'&gt;</td>\n",
       "      <td>&lt;class 'str'&gt;</td>\n",
       "      <td>&lt;class 'str'&gt;</td>\n",
       "      <td>&lt;class 'str'&gt;</td>\n",
       "      <td>&lt;class 'str'&gt;</td>\n",
       "      <td>&lt;class 'str'&gt;</td>\n",
       "      <td>&lt;class 'str'&gt;</td>\n",
       "      <td>&lt;class 'str'&gt;</td>\n",
       "      <td>&lt;class 'str'&gt;</td>\n",
       "    </tr>\n",
       "    <tr>\n",
       "      <th>997</th>\n",
       "      <td>&lt;class 'str'&gt;</td>\n",
       "      <td>&lt;class 'pandas._libs.tslibs.timestamps.Timesta...</td>\n",
       "      <td>&lt;class 'str'&gt;</td>\n",
       "      <td>&lt;class 'str'&gt;</td>\n",
       "      <td>&lt;class 'str'&gt;</td>\n",
       "      <td>&lt;class 'str'&gt;</td>\n",
       "      <td>&lt;class 'str'&gt;</td>\n",
       "      <td>&lt;class 'str'&gt;</td>\n",
       "      <td>&lt;class 'str'&gt;</td>\n",
       "      <td>&lt;class 'str'&gt;</td>\n",
       "      <td>&lt;class 'str'&gt;</td>\n",
       "      <td>&lt;class 'str'&gt;</td>\n",
       "      <td>&lt;class 'str'&gt;</td>\n",
       "      <td>&lt;class 'str'&gt;</td>\n",
       "    </tr>\n",
       "    <tr>\n",
       "      <th>998</th>\n",
       "      <td>&lt;class 'str'&gt;</td>\n",
       "      <td>&lt;class 'pandas._libs.tslibs.timestamps.Timesta...</td>\n",
       "      <td>&lt;class 'str'&gt;</td>\n",
       "      <td>&lt;class 'str'&gt;</td>\n",
       "      <td>&lt;class 'str'&gt;</td>\n",
       "      <td>&lt;class 'float'&gt;</td>\n",
       "      <td>&lt;class 'str'&gt;</td>\n",
       "      <td>&lt;class 'str'&gt;</td>\n",
       "      <td>&lt;class 'str'&gt;</td>\n",
       "      <td>&lt;class 'str'&gt;</td>\n",
       "      <td>&lt;class 'str'&gt;</td>\n",
       "      <td>&lt;class 'str'&gt;</td>\n",
       "      <td>&lt;class 'str'&gt;</td>\n",
       "      <td>&lt;class 'str'&gt;</td>\n",
       "    </tr>\n",
       "    <tr>\n",
       "      <th>999</th>\n",
       "      <td>&lt;class 'str'&gt;</td>\n",
       "      <td>&lt;class 'pandas._libs.tslibs.timestamps.Timesta...</td>\n",
       "      <td>&lt;class 'str'&gt;</td>\n",
       "      <td>&lt;class 'str'&gt;</td>\n",
       "      <td>&lt;class 'str'&gt;</td>\n",
       "      <td>&lt;class 'str'&gt;</td>\n",
       "      <td>&lt;class 'str'&gt;</td>\n",
       "      <td>&lt;class 'str'&gt;</td>\n",
       "      <td>&lt;class 'str'&gt;</td>\n",
       "      <td>&lt;class 'str'&gt;</td>\n",
       "      <td>&lt;class 'str'&gt;</td>\n",
       "      <td>&lt;class 'str'&gt;</td>\n",
       "      <td>&lt;class 'str'&gt;</td>\n",
       "      <td>&lt;class 'str'&gt;</td>\n",
       "    </tr>\n",
       "  </tbody>\n",
       "</table>\n",
       "<p>1000 rows × 14 columns</p>\n",
       "</div>"
      ],
      "text/plain": [
       "         animal_id                                           datetime  \\\n",
       "0    <class 'str'>  <class 'pandas._libs.tslibs.timestamps.Timesta...   \n",
       "1    <class 'str'>  <class 'pandas._libs.tslibs.timestamps.Timesta...   \n",
       "2    <class 'str'>  <class 'pandas._libs.tslibs.timestamps.Timesta...   \n",
       "3    <class 'str'>  <class 'pandas._libs.tslibs.timestamps.Timesta...   \n",
       "4    <class 'str'>  <class 'pandas._libs.tslibs.timestamps.Timesta...   \n",
       "..             ...                                                ...   \n",
       "995  <class 'str'>  <class 'pandas._libs.tslibs.timestamps.Timesta...   \n",
       "996  <class 'str'>  <class 'pandas._libs.tslibs.timestamps.Timesta...   \n",
       "997  <class 'str'>  <class 'pandas._libs.tslibs.timestamps.Timesta...   \n",
       "998  <class 'str'>  <class 'pandas._libs.tslibs.timestamps.Timesta...   \n",
       "999  <class 'str'>  <class 'pandas._libs.tslibs.timestamps.Timesta...   \n",
       "\n",
       "         monthyear  date_of_birth   outcome_type  outcome_subtype  \\\n",
       "0    <class 'str'>  <class 'str'>  <class 'str'>    <class 'str'>   \n",
       "1    <class 'str'>  <class 'str'>  <class 'str'>  <class 'float'>   \n",
       "2    <class 'str'>  <class 'str'>  <class 'str'>  <class 'float'>   \n",
       "3    <class 'str'>  <class 'str'>  <class 'str'>    <class 'str'>   \n",
       "4    <class 'str'>  <class 'str'>  <class 'str'>  <class 'float'>   \n",
       "..             ...            ...            ...              ...   \n",
       "995  <class 'str'>  <class 'str'>  <class 'str'>  <class 'float'>   \n",
       "996  <class 'str'>  <class 'str'>  <class 'str'>  <class 'float'>   \n",
       "997  <class 'str'>  <class 'str'>  <class 'str'>    <class 'str'>   \n",
       "998  <class 'str'>  <class 'str'>  <class 'str'>  <class 'float'>   \n",
       "999  <class 'str'>  <class 'str'>  <class 'str'>    <class 'str'>   \n",
       "\n",
       "       animal_type sex_upon_outcome age_upon_outcome          breed  \\\n",
       "0    <class 'str'>    <class 'str'>    <class 'str'>  <class 'str'>   \n",
       "1    <class 'str'>    <class 'str'>    <class 'str'>  <class 'str'>   \n",
       "2    <class 'str'>    <class 'str'>    <class 'str'>  <class 'str'>   \n",
       "3    <class 'str'>    <class 'str'>    <class 'str'>  <class 'str'>   \n",
       "4    <class 'str'>    <class 'str'>    <class 'str'>  <class 'str'>   \n",
       "..             ...              ...              ...            ...   \n",
       "995  <class 'str'>    <class 'str'>    <class 'str'>  <class 'str'>   \n",
       "996  <class 'str'>    <class 'str'>    <class 'str'>  <class 'str'>   \n",
       "997  <class 'str'>    <class 'str'>    <class 'str'>  <class 'str'>   \n",
       "998  <class 'str'>    <class 'str'>    <class 'str'>  <class 'str'>   \n",
       "999  <class 'str'>    <class 'str'>    <class 'str'>  <class 'str'>   \n",
       "\n",
       "             color             name       new_age1       new_sex1  \n",
       "0    <class 'str'>  <class 'float'>  <class 'str'>  <class 'str'>  \n",
       "1    <class 'str'>  <class 'float'>  <class 'str'>  <class 'str'>  \n",
       "2    <class 'str'>  <class 'float'>  <class 'str'>  <class 'str'>  \n",
       "3    <class 'str'>  <class 'float'>  <class 'str'>  <class 'str'>  \n",
       "4    <class 'str'>    <class 'str'>  <class 'str'>  <class 'str'>  \n",
       "..             ...              ...            ...            ...  \n",
       "995  <class 'str'>    <class 'str'>  <class 'str'>  <class 'str'>  \n",
       "996  <class 'str'>    <class 'str'>  <class 'str'>  <class 'str'>  \n",
       "997  <class 'str'>    <class 'str'>  <class 'str'>  <class 'str'>  \n",
       "998  <class 'str'>    <class 'str'>  <class 'str'>  <class 'str'>  \n",
       "999  <class 'str'>    <class 'str'>  <class 'str'>  <class 'str'>  \n",
       "\n",
       "[1000 rows x 14 columns]"
      ]
     },
     "execution_count": 35,
     "metadata": {},
     "output_type": "execute_result"
    }
   ],
   "source": [
    "# This line will apply the base `type()` function to \n",
    "# all entries of the DataFrame.\n",
    "\n",
    "animals.applymap(type)"
   ]
  },
  {
   "cell_type": "markdown",
   "metadata": {
    "heading_collapsed": true
   },
   "source": [
    "# Level Up: Faster NumPy Methods"
   ]
  },
  {
   "cell_type": "markdown",
   "metadata": {
    "hidden": true
   },
   "source": [
    "In general, `np.where()` and `np.select()` are faster than `map()`. This won't matter too much with reasonably-sized data but can be a consideration for ***big data***."
   ]
  },
  {
   "cell_type": "markdown",
   "metadata": {
    "heading_collapsed": true,
    "hidden": true
   },
   "source": [
    "## NumPy's `where()` Method"
   ]
  },
  {
   "cell_type": "code",
   "execution_count": 36,
   "metadata": {
    "hidden": true,
    "scrolled": true
   },
   "outputs": [
    {
     "data": {
      "text/plain": [
       "0          NULL\n",
       "1       1 month\n",
       "2       1 years\n",
       "3          NULL\n",
       "4       1 years\n",
       "         ...   \n",
       "995    3 months\n",
       "996    3 months\n",
       "997     2 years\n",
       "998    8 months\n",
       "999    2 months\n",
       "Name: new_age2, Length: 1000, dtype: object"
      ]
     },
     "execution_count": 36,
     "metadata": {},
     "output_type": "execute_result"
    }
   ],
   "source": [
    "animals['new_age2'] = np.where(animals['age_upon_outcome'] == '1 year',\n",
    "                              '1 years', animals['age_upon_outcome'])\n",
    "animals['new_age2']"
   ]
  },
  {
   "cell_type": "code",
   "execution_count": 37,
   "metadata": {
    "hidden": true
   },
   "outputs": [
    {
     "data": {
      "text/plain": [
       "0"
      ]
     },
     "execution_count": 37,
     "metadata": {},
     "output_type": "execute_result"
    }
   ],
   "source": [
    "# Check we got the same results with np.where()\n",
    "(animals['new_age1'] != animals['new_age2']).sum()"
   ]
  },
  {
   "cell_type": "code",
   "execution_count": 38,
   "metadata": {
    "hidden": true
   },
   "outputs": [
    {
     "name": "stdout",
     "output_type": "stream",
     "text": [
      "210 µs ± 6.62 µs per loop (mean ± std. dev. of 7 runs, 1000 loops each)\n"
     ]
    }
   ],
   "source": [
    "# Let's time how long it takes .map() to run by running it multiple times\n",
    "%timeit animals['new_age1'] = animals['age_upon_outcome'].map(one_year)"
   ]
  },
  {
   "cell_type": "code",
   "execution_count": 39,
   "metadata": {
    "hidden": true
   },
   "outputs": [
    {
     "name": "stdout",
     "output_type": "stream",
     "text": [
      "153 µs ± 1.77 µs per loop (mean ± std. dev. of 7 runs, 10000 loops each)\n"
     ]
    }
   ],
   "source": [
    "# Let's time how long it takes np.where() to run by running it multiple times\n",
    "%timeit animals['new_age2'] = np.where(animals['age_upon_outcome'] == '1 year',\\\n",
    "                                       '1 years',animals['age_upon_outcome'])"
   ]
  },
  {
   "cell_type": "markdown",
   "metadata": {
    "heading_collapsed": true,
    "hidden": true
   },
   "source": [
    "## NumPy's `select()` Method"
   ]
  },
  {
   "cell_type": "markdown",
   "metadata": {
    "hidden": true
   },
   "source": [
    "Again, `numpy` will be faster:"
   ]
  },
  {
   "cell_type": "code",
   "execution_count": 40,
   "metadata": {
    "hidden": true
   },
   "outputs": [],
   "source": [
    "conditions = [animals['sex_upon_outcome'] == 'Neutered Male',\n",
    "             animals['sex_upon_outcome'] == 'Intact Male',\n",
    "             animals['sex_upon_outcome'] == 'Spayed Female',\n",
    "             animals['sex_upon_outcome'] == 'Intact Female',\n",
    "             animals['sex_upon_outcome'] == 'Unknown',\n",
    "             animals['sex_upon_outcome'] == 'NULL']\n",
    "\n",
    "choices = ['Male', 'Male', 'Female', 'Female', 'Unknown', 'Unknown']"
   ]
  },
  {
   "cell_type": "code",
   "execution_count": 41,
   "metadata": {
    "hidden": true
   },
   "outputs": [
    {
     "data": {
      "text/plain": [
       "0      Unknown\n",
       "1      Unknown\n",
       "2      Unknown\n",
       "3       Female\n",
       "4         Male\n",
       "        ...   \n",
       "995     Female\n",
       "996     Female\n",
       "997       Male\n",
       "998     Female\n",
       "999       Male\n",
       "Name: new_sex2, Length: 1000, dtype: object"
      ]
     },
     "execution_count": 41,
     "metadata": {},
     "output_type": "execute_result"
    }
   ],
   "source": [
    "animals['new_sex2'] = np.select(conditions, choices)\n",
    "animals['new_sex2']"
   ]
  },
  {
   "cell_type": "code",
   "execution_count": 42,
   "metadata": {
    "hidden": true
   },
   "outputs": [
    {
     "data": {
      "text/plain": [
       "0"
      ]
     },
     "execution_count": 42,
     "metadata": {},
     "output_type": "execute_result"
    }
   ],
   "source": [
    "# Check we got the same results with np.where()\n",
    "(animals['new_sex1'] != animals['new_sex2']).sum()"
   ]
  },
  {
   "cell_type": "code",
   "execution_count": 43,
   "metadata": {
    "hidden": true
   },
   "outputs": [
    {
     "name": "stdout",
     "output_type": "stream",
     "text": [
      "237 µs ± 2.43 µs per loop (mean ± std. dev. of 7 runs, 1000 loops each)\n"
     ]
    }
   ],
   "source": [
    "# Let's time how long it takes .map() to run by running it multiple times\n",
    "%timeit animals['new_sex1'] = animals['sex_upon_outcome'].map(sex_mapper)"
   ]
  },
  {
   "cell_type": "code",
   "execution_count": 44,
   "metadata": {
    "hidden": true
   },
   "outputs": [
    {
     "name": "stdout",
     "output_type": "stream",
     "text": [
      "182 µs ± 4.78 µs per loop (mean ± std. dev. of 7 runs, 10000 loops each)\n"
     ]
    }
   ],
   "source": [
    "# Let's time how long it takes np.select() to run by running it multiple times\n",
    "%timeit animals['new_sex2'] = np.select(conditions, choices)"
   ]
  }
 ],
 "metadata": {
  "kernelspec": {
   "display_name": "Python 3",
   "language": "python",
   "name": "python3"
  },
  "language_info": {
   "codemirror_mode": {
    "name": "ipython",
    "version": 3
   },
   "file_extension": ".py",
   "mimetype": "text/x-python",
   "name": "python",
   "nbconvert_exporter": "python",
   "pygments_lexer": "ipython3",
   "version": "3.8.5"
  },
  "toc": {
   "base_numbering": 1,
   "nav_menu": {},
   "number_sections": true,
   "sideBar": true,
   "skip_h1_title": false,
   "title_cell": "Table of Contents",
   "title_sidebar": "TOC",
   "toc_cell": true,
   "toc_position": {
    "height": "calc(100% - 180px)",
    "left": "10px",
    "top": "150px",
    "width": "267px"
   },
   "toc_section_display": true,
   "toc_window_display": true
  }
 },
 "nbformat": 4,
 "nbformat_minor": 4
}
